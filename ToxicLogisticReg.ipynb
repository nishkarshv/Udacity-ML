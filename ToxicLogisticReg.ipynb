{
  "nbformat": 4,
  "nbformat_minor": 0,
  "metadata": {
    "colab": {
      "name": "Untitled5.ipynb",
      "version": "0.3.2",
      "views": {},
      "default_view": {},
      "provenance": [],
      "collapsed_sections": []
    },
    "kernelspec": {
      "name": "python3",
      "display_name": "Python 3"
    }
  },
  "cells": [
    {
      "metadata": {
        "id": "_KFs1_tLuBg7",
        "colab_type": "code",
        "colab": {
          "autoexec": {
            "startup": false,
            "wait_interval": 0
          }
        }
      },
      "cell_type": "code",
      "source": [
        "!pip install -U -q PyDrive\n",
        "\n",
        "from pydrive.auth import GoogleAuth\n",
        "from pydrive.drive import GoogleDrive\n",
        "from google.colab import auth\n",
        "from oauth2client.client import GoogleCredentials\n",
        "\n",
        "# 1. Authenticate and create the PyDrive client.\n",
        "auth.authenticate_user()\n",
        "gauth = GoogleAuth()\n",
        "gauth.credentials = GoogleCredentials.get_application_default()\n",
        "drive = GoogleDrive(gauth)\n",
        "\n",
        "# 2. Load a file by ID and create local file.\n",
        "downloaded = drive.CreateFile({'id':'1os1T4eWQfmGNkCI8z4Fx3lJ39dWcsG4l'}) # replace fileid with Id of file you want to access\n",
        "downloaded.GetContentFile('data\\train.csv') # now you can use train.csv \n",
        "downloaded = drive.CreateFile({'id':'1fYwpjp6hsbvmvqagCCpa63Iqoil-Dgzq'}) # replace fileid with Id of file you want to access\n",
        "downloaded.GetContentFile('data\\test.csv') # now you can use train.csv \n",
        "downloaded = drive.CreateFile({'id':'1h32uyq4j5dU5xiHKT3V7VvF4EPNACuVD'}) # replace fileid with Id of file you want to access\n",
        "downloaded.GetContentFile('data\\sample_submission.csv') # now you can use train.csv \n"
      ],
      "execution_count": 0,
      "outputs": []
    },
    {
      "metadata": {
        "id": "tzsEATGYuxu0",
        "colab_type": "code",
        "colab": {
          "autoexec": {
            "startup": false,
            "wait_interval": 0
          },
          "base_uri": "https://localhost:8080/",
          "height": 242
        },
        "outputId": "c800f5a9-1488-4e8d-f34d-cfa603fdabe6",
        "executionInfo": {
          "status": "ok",
          "timestamp": 1527271881147,
          "user_tz": -330,
          "elapsed": 2627,
          "user": {
            "displayName": "Nishkarsh Vardhan",
            "photoUrl": "//lh3.googleusercontent.com/-uHL0v6hEGG4/AAAAAAAAAAI/AAAAAAAABUU/elEvQB2L4Qk/s50-c-k-no/photo.jpg",
            "userId": "101588741636809151500"
          }
        }
      },
      "cell_type": "code",
      "source": [
        "import pandas as pd, numpy as np\n",
        "from sklearn.linear_model import LogisticRegression\n",
        "from sklearn.feature_extraction.text import CountVectorizer, TfidfVectorizer\n",
        "from __future__ import print_function\n",
        "import seaborn as sns\n",
        "from matplotlib import pyplot as plt\n",
        "from sklearn.linear_model import LinearRegression\n",
        "from sklearn.model_selection import train_test_split\n",
        "import re\n",
        "\n",
        "print(\"Read and Segregate the data \")\n",
        "toxictrain = pd.read_csv('data\\train.csv')\n",
        "toxictest = pd.read_csv('data\\test.csv')\n",
        "toxictrain.head()\n",
        "train_toxic = toxictrain.drop(['id', 'comment_text'],axis=1)\n",
        "count = []\n",
        "category = list(train_toxic.columns.values)\n",
        "for i in category:\n",
        "  count.append((i,train_toxic[i].sum()))\n",
        "train_stats = pd.DataFrame(count,columns=['category','no_of_comments'])\n",
        "train_stats"
      ],
      "execution_count": 159,
      "outputs": [
        {
          "output_type": "stream",
          "text": [
            "Read and Segregate the data \n"
          ],
          "name": "stdout"
        },
        {
          "output_type": "execute_result",
          "data": {
            "text/html": [
              "<div>\n",
              "<style scoped>\n",
              "    .dataframe tbody tr th:only-of-type {\n",
              "        vertical-align: middle;\n",
              "    }\n",
              "\n",
              "    .dataframe tbody tr th {\n",
              "        vertical-align: top;\n",
              "    }\n",
              "\n",
              "    .dataframe thead th {\n",
              "        text-align: right;\n",
              "    }\n",
              "</style>\n",
              "<table border=\"1\" class=\"dataframe\">\n",
              "  <thead>\n",
              "    <tr style=\"text-align: right;\">\n",
              "      <th></th>\n",
              "      <th>category</th>\n",
              "      <th>no_of_comments</th>\n",
              "    </tr>\n",
              "  </thead>\n",
              "  <tbody>\n",
              "    <tr>\n",
              "      <th>0</th>\n",
              "      <td>toxic</td>\n",
              "      <td>15294</td>\n",
              "    </tr>\n",
              "    <tr>\n",
              "      <th>1</th>\n",
              "      <td>severe_toxic</td>\n",
              "      <td>1595</td>\n",
              "    </tr>\n",
              "    <tr>\n",
              "      <th>2</th>\n",
              "      <td>obscene</td>\n",
              "      <td>8449</td>\n",
              "    </tr>\n",
              "    <tr>\n",
              "      <th>3</th>\n",
              "      <td>threat</td>\n",
              "      <td>478</td>\n",
              "    </tr>\n",
              "    <tr>\n",
              "      <th>4</th>\n",
              "      <td>insult</td>\n",
              "      <td>7877</td>\n",
              "    </tr>\n",
              "    <tr>\n",
              "      <th>5</th>\n",
              "      <td>identity_hate</td>\n",
              "      <td>1405</td>\n",
              "    </tr>\n",
              "  </tbody>\n",
              "</table>\n",
              "</div>"
            ],
            "text/plain": [
              "        category  no_of_comments\n",
              "0          toxic           15294\n",
              "1   severe_toxic            1595\n",
              "2        obscene            8449\n",
              "3         threat             478\n",
              "4         insult            7877\n",
              "5  identity_hate            1405"
            ]
          },
          "metadata": {
            "tags": []
          },
          "execution_count": 159
        }
      ]
    },
    {
      "metadata": {
        "id": "DQGsJCq8eyZZ",
        "colab_type": "code",
        "colab": {
          "autoexec": {
            "startup": false,
            "wait_interval": 0
          },
          "base_uri": "https://localhost:8080/",
          "height": 486
        },
        "outputId": "71de9d7d-0be3-4ebf-a91b-232b78acbe42",
        "executionInfo": {
          "status": "ok",
          "timestamp": 1527271914317,
          "user_tz": -330,
          "elapsed": 1384,
          "user": {
            "displayName": "Nishkarsh Vardhan",
            "photoUrl": "//lh3.googleusercontent.com/-uHL0v6hEGG4/AAAAAAAAAAI/AAAAAAAABUU/elEvQB2L4Qk/s50-c-k-no/photo.jpg",
            "userId": "101588741636809151500"
          }
        }
      },
      "cell_type": "code",
      "source": [
        "#number of comments category wise\n",
        "print(\"Plot the data categorywise\")\n",
        "train_stats.plot(x='category', y='no_of_comments', kind='bar', legend=False, grid=True, figsize=(12, 6))\n",
        "plt.title(\"Number of comments per category\")\n",
        "plt.ylabel('Number of Occurrences', fontsize=12)\n",
        "plt.xlabel('category', fontsize=12)\n"
      ],
      "execution_count": 160,
      "outputs": [
        {
          "output_type": "stream",
          "text": [
            "Plot the data categorywise\n"
          ],
          "name": "stdout"
        },
        {
          "output_type": "execute_result",
          "data": {
            "text/plain": [
              "Text(0.5,0,'category')"
            ]
          },
          "metadata": {
            "tags": []
          },
          "execution_count": 160
        },
        {
          "output_type": "display_data",
          "data": {
            "image/png": "[encoded data removed]",
            "text/plain": [
              "<matplotlib.figure.Figure at 0x7fa71620a0f0>"
            ]
          },
          "metadata": {
            "tags": []
          }
        }
      ]
    },
    {
      "metadata": {
        "id": "UuuqpX_pu3BV",
        "colab_type": "code",
        "colab": {
          "autoexec": {
            "startup": false,
            "wait_interval": 0
          },
          "base_uri": "https://localhost:8080/",
          "height": 50
        },
        "outputId": "9bcb27b8-0759-4ec4-bc35-4b35a8d73882",
        "executionInfo": {
          "status": "ok",
          "timestamp": 1527271947312,
          "user_tz": -330,
          "elapsed": 893,
          "user": {
            "displayName": "Nishkarsh Vardhan",
            "photoUrl": "//lh3.googleusercontent.com/-uHL0v6hEGG4/AAAAAAAAAAI/AAAAAAAABUU/elEvQB2L4Qk/s50-c-k-no/photo.jpg",
            "userId": "101588741636809151500"
          }
        }
      },
      "cell_type": "code",
      "source": [
        "print(\"Finding mean, standard deviation and max from data\")\n",
        "lens = toxictrain.comment_text.str.len()\n",
        "lens.mean(), lens.std(), lens.max()"
      ],
      "execution_count": 161,
      "outputs": [
        {
          "output_type": "stream",
          "text": [
            "Finding mean, standard deviation and max from data\n"
          ],
          "name": "stdout"
        },
        {
          "output_type": "execute_result",
          "data": {
            "text/plain": [
              "(394.0732213246768, 590.7202819048919, 5000)"
            ]
          },
          "metadata": {
            "tags": []
          },
          "execution_count": 161
        }
      ]
    },
    {
      "metadata": {
        "id": "S_qDkV6pvKJA",
        "colab_type": "code",
        "colab": {
          "autoexec": {
            "startup": false,
            "wait_interval": 0
          },
          "base_uri": "https://localhost:8080/",
          "height": 298
        },
        "outputId": "1caf7f94-09e1-4b70-a0b6-b1efa12ace79",
        "executionInfo": {
          "status": "ok",
          "timestamp": 1527271969731,
          "user_tz": -330,
          "elapsed": 1008,
          "user": {
            "displayName": "Nishkarsh Vardhan",
            "photoUrl": "//lh3.googleusercontent.com/-uHL0v6hEGG4/AAAAAAAAAAI/AAAAAAAABUU/elEvQB2L4Qk/s50-c-k-no/photo.jpg",
            "userId": "101588741636809151500"
          }
        }
      },
      "cell_type": "code",
      "source": [
        "print(\"Histogram plot for data\")\n",
        "%matplotlib inline\n",
        "\n",
        "lens.hist()"
      ],
      "execution_count": 162,
      "outputs": [
        {
          "output_type": "stream",
          "text": [
            "Histogram plot for data\n"
          ],
          "name": "stdout"
        },
        {
          "output_type": "execute_result",
          "data": {
            "text/plain": [
              "<matplotlib.axes._subplots.AxesSubplot at 0x7fa7155a4c50>"
            ]
          },
          "metadata": {
            "tags": []
          },
          "execution_count": 162
        },
        {
          "output_type": "display_data",
          "data": {
            "image/png": "[encoded data removed]",
            "text/plain": [
              "<matplotlib.figure.Figure at 0x7fa712155b38>"
            ]
          },
          "metadata": {
            "tags": []
          }
        }
      ]
    },
    {
      "metadata": {
        "id": "-8_AfQ9WvMy2",
        "colab_type": "code",
        "colab": {
          "autoexec": {
            "startup": false,
            "wait_interval": 0
          },
          "base_uri": "https://localhost:8080/",
          "height": 284
        },
        "outputId": "919a17c2-a78f-4efd-d625-62ffddd61429",
        "executionInfo": {
          "status": "ok",
          "timestamp": 1527271981160,
          "user_tz": -330,
          "elapsed": 1270,
          "user": {
            "displayName": "Nishkarsh Vardhan",
            "photoUrl": "//lh3.googleusercontent.com/-uHL0v6hEGG4/AAAAAAAAAAI/AAAAAAAABUU/elEvQB2L4Qk/s50-c-k-no/photo.jpg",
            "userId": "101588741636809151500"
          }
        }
      },
      "cell_type": "code",
      "source": [
        "target = ['toxic', 'severe_toxic', 'obscene', 'threat', 'insult', 'identity_hate']\n",
        "toxictrain['none'] = 1-toxictrain[target].max(axis=1)\n",
        "toxictrain.describe()"
      ],
      "execution_count": 163,
      "outputs": [
        {
          "output_type": "execute_result",
          "data": {
            "text/html": [
              "<div>\n",
              "<style scoped>\n",
              "    .dataframe tbody tr th:only-of-type {\n",
              "        vertical-align: middle;\n",
              "    }\n",
              "\n",
              "    .dataframe tbody tr th {\n",
              "        vertical-align: top;\n",
              "    }\n",
              "\n",
              "    .dataframe thead th {\n",
              "        text-align: right;\n",
              "    }\n",
              "</style>\n",
              "<table border=\"1\" class=\"dataframe\">\n",
              "  <thead>\n",
              "    <tr style=\"text-align: right;\">\n",
              "      <th></th>\n",
              "      <th>toxic</th>\n",
              "      <th>severe_toxic</th>\n",
              "      <th>obscene</th>\n",
              "      <th>threat</th>\n",
              "      <th>insult</th>\n",
              "      <th>identity_hate</th>\n",
              "      <th>none</th>\n",
              "    </tr>\n",
              "  </thead>\n",
              "  <tbody>\n",
              "    <tr>\n",
              "      <th>count</th>\n",
              "      <td>159571.000000</td>\n",
              "      <td>159571.000000</td>\n",
              "      <td>159571.000000</td>\n",
              "      <td>159571.000000</td>\n",
              "      <td>159571.000000</td>\n",
              "      <td>159571.000000</td>\n",
              "      <td>159571.000000</td>\n",
              "    </tr>\n",
              "    <tr>\n",
              "      <th>mean</th>\n",
              "      <td>0.095844</td>\n",
              "      <td>0.009996</td>\n",
              "      <td>0.052948</td>\n",
              "      <td>0.002996</td>\n",
              "      <td>0.049364</td>\n",
              "      <td>0.008805</td>\n",
              "      <td>0.898321</td>\n",
              "    </tr>\n",
              "    <tr>\n",
              "      <th>std</th>\n",
              "      <td>0.294379</td>\n",
              "      <td>0.099477</td>\n",
              "      <td>0.223931</td>\n",
              "      <td>0.054650</td>\n",
              "      <td>0.216627</td>\n",
              "      <td>0.093420</td>\n",
              "      <td>0.302226</td>\n",
              "    </tr>\n",
              "    <tr>\n",
              "      <th>min</th>\n",
              "      <td>0.000000</td>\n",
              "      <td>0.000000</td>\n",
              "      <td>0.000000</td>\n",
              "      <td>0.000000</td>\n",
              "      <td>0.000000</td>\n",
              "      <td>0.000000</td>\n",
              "      <td>0.000000</td>\n",
              "    </tr>\n",
              "    <tr>\n",
              "      <th>25%</th>\n",
              "      <td>0.000000</td>\n",
              "      <td>0.000000</td>\n",
              "      <td>0.000000</td>\n",
              "      <td>0.000000</td>\n",
              "      <td>0.000000</td>\n",
              "      <td>0.000000</td>\n",
              "      <td>1.000000</td>\n",
              "    </tr>\n",
              "    <tr>\n",
              "      <th>50%</th>\n",
              "      <td>0.000000</td>\n",
              "      <td>0.000000</td>\n",
              "      <td>0.000000</td>\n",
              "      <td>0.000000</td>\n",
              "      <td>0.000000</td>\n",
              "      <td>0.000000</td>\n",
              "      <td>1.000000</td>\n",
              "    </tr>\n",
              "    <tr>\n",
              "      <th>75%</th>\n",
              "      <td>0.000000</td>\n",
              "      <td>0.000000</td>\n",
              "      <td>0.000000</td>\n",
              "      <td>0.000000</td>\n",
              "      <td>0.000000</td>\n",
              "      <td>0.000000</td>\n",
              "      <td>1.000000</td>\n",
              "    </tr>\n",
              "    <tr>\n",
              "      <th>max</th>\n",
              "      <td>1.000000</td>\n",
              "      <td>1.000000</td>\n",
              "      <td>1.000000</td>\n",
              "      <td>1.000000</td>\n",
              "      <td>1.000000</td>\n",
              "      <td>1.000000</td>\n",
              "      <td>1.000000</td>\n",
              "    </tr>\n",
              "  </tbody>\n",
              "</table>\n",
              "</div>"
            ],
            "text/plain": [
              "               toxic   severe_toxic        obscene         threat  \\\n",
              "count  159571.000000  159571.000000  159571.000000  159571.000000   \n",
              "mean        0.095844       0.009996       0.052948       0.002996   \n",
              "std         0.294379       0.099477       0.223931       0.054650   \n",
              "min         0.000000       0.000000       0.000000       0.000000   \n",
              "25%         0.000000       0.000000       0.000000       0.000000   \n",
              "50%         0.000000       0.000000       0.000000       0.000000   \n",
              "75%         0.000000       0.000000       0.000000       0.000000   \n",
              "max         1.000000       1.000000       1.000000       1.000000   \n",
              "\n",
              "              insult  identity_hate           none  \n",
              "count  159571.000000  159571.000000  159571.000000  \n",
              "mean        0.049364       0.008805       0.898321  \n",
              "std         0.216627       0.093420       0.302226  \n",
              "min         0.000000       0.000000       0.000000  \n",
              "25%         0.000000       0.000000       1.000000  \n",
              "50%         0.000000       0.000000       1.000000  \n",
              "75%         0.000000       0.000000       1.000000  \n",
              "max         1.000000       1.000000       1.000000  "
            ]
          },
          "metadata": {
            "tags": []
          },
          "execution_count": 163
        }
      ]
    },
    {
      "metadata": {
        "id": "eYhydzjRg-7a",
        "colab_type": "code",
        "colab": {
          "autoexec": {
            "startup": false,
            "wait_interval": 0
          },
          "base_uri": "https://localhost:8080/",
          "height": 418
        },
        "outputId": "6020e491-3b37-4e75-ffec-3ba0deb6715c",
        "executionInfo": {
          "status": "ok",
          "timestamp": 1527272011109,
          "user_tz": -330,
          "elapsed": 1454,
          "user": {
            "displayName": "Nishkarsh Vardhan",
            "photoUrl": "//lh3.googleusercontent.com/-uHL0v6hEGG4/AAAAAAAAAAI/AAAAAAAABUU/elEvQB2L4Qk/s50-c-k-no/photo.jpg",
            "userId": "101588741636809151500"
          }
        }
      },
      "cell_type": "code",
      "source": [
        "#comments have multi labels\n",
        "print(\"Finding comments having multi labels\")\n",
        "rowsums = toxictrain.iloc[:,2:].sum(axis=1)\n",
        "x=rowsums.value_counts()\n",
        "#plot\n",
        "plt.figure(figsize=(10,5))\n",
        "ax = sns.barplot(x.index, x.values)\n",
        "plt.title(\"Multiple categories per comment\")\n",
        "plt.ylabel('No of Occurrences', fontsize=12)\n",
        "plt.xlabel('No of categories', fontsize=12)"
      ],
      "execution_count": 164,
      "outputs": [
        {
          "output_type": "stream",
          "text": [
            "Finding comments having multi labels\n"
          ],
          "name": "stdout"
        },
        {
          "output_type": "stream",
          "text": [
            "/usr/local/lib/python3.6/dist-packages/seaborn/categorical.py:1428: FutureWarning: remove_na is deprecated and is a private function. Do not use.\n",
            "  stat_data = remove_na(group_data)\n"
          ],
          "name": "stderr"
        },
        {
          "output_type": "execute_result",
          "data": {
            "text/plain": [
              "Text(0.5,0,'No of categories')"
            ]
          },
          "metadata": {
            "tags": []
          },
          "execution_count": 164
        },
        {
          "output_type": "display_data",
          "data": {
            "image/png": "[encoded data removed]",
            "text/plain": [
              "<matplotlib.figure.Figure at 0x7fa7175740b8>"
            ]
          },
          "metadata": {
            "tags": []
          }
        }
      ]
    },
    {
      "metadata": {
        "id": "zQl48bA9vQcj",
        "colab_type": "code",
        "colab": {
          "autoexec": {
            "startup": false,
            "wait_interval": 0
          },
          "base_uri": "https://localhost:8080/",
          "height": 673
        },
        "outputId": "b04df3b8-e141-4036-c892-33416025e553",
        "executionInfo": {
          "status": "ok",
          "timestamp": 1527272049052,
          "user_tz": -330,
          "elapsed": 1682,
          "user": {
            "displayName": "Nishkarsh Vardhan",
            "photoUrl": "//lh3.googleusercontent.com/-uHL0v6hEGG4/AAAAAAAAAAI/AAAAAAAABUU/elEvQB2L4Qk/s50-c-k-no/photo.jpg",
            "userId": "101588741636809151500"
          }
        }
      },
      "cell_type": "code",
      "source": [
        "print(\"Separate out comments on basis of category representing it with graph\")\n",
        "fig,ax = plt.subplots(2,3,figsize=(16,10))\n",
        "ax1,ax2,ax3,ax4,ax5,ax6 = ax.flatten()\n",
        "sns.countplot(toxictrain['toxic'],palette= 'viridis',ax=ax1)\n",
        "sns.countplot(toxictrain['severe_toxic'], palette= 'viridis',ax=ax2)\n",
        "sns.countplot(toxictrain['obscene'], palette= 'viridis',ax=ax3)\n",
        "sns.countplot(toxictrain['threat'], palette= 'viridis',ax = ax4)\n",
        "sns.countplot(toxictrain['insult'], palette = 'viridis',ax=ax5)\n",
        "sns.countplot(toxictrain['identity_hate'], palette = 'viridis', ax = ax6)"
      ],
      "execution_count": 165,
      "outputs": [
        {
          "output_type": "stream",
          "text": [
            "Separate out comments on basis of category representing it with graph\n"
          ],
          "name": "stdout"
        },
        {
          "output_type": "stream",
          "text": [
            "/usr/local/lib/python3.6/dist-packages/seaborn/categorical.py:1428: FutureWarning: remove_na is deprecated and is a private function. Do not use.\n",
            "  stat_data = remove_na(group_data)\n"
          ],
          "name": "stderr"
        },
        {
          "output_type": "execute_result",
          "data": {
            "text/plain": [
              "<matplotlib.axes._subplots.AxesSubplot at 0x7fa72997b160>"
            ]
          },
          "metadata": {
            "tags": []
          },
          "execution_count": 165
        },
        {
          "output_type": "display_data",
          "data": {
            "image/png": "[encoded data removed]",
            "text/plain": [
              "<matplotlib.figure.Figure at 0x7fa7228e0208>"
            ]
          },
          "metadata": {
            "tags": []
          }
        }
      ]
    },
    {
      "metadata": {
        "id": "Xf3iSV8LvVDF",
        "colab_type": "code",
        "colab": {
          "autoexec": {
            "startup": false,
            "wait_interval": 0
          },
          "base_uri": "https://localhost:8080/",
          "height": 168
        },
        "outputId": "e0855d03-53ae-476b-95ac-53e8ff06372c",
        "executionInfo": {
          "status": "ok",
          "timestamp": 1527272078891,
          "user_tz": -330,
          "elapsed": 946,
          "user": {
            "displayName": "Nishkarsh Vardhan",
            "photoUrl": "//lh3.googleusercontent.com/-uHL0v6hEGG4/AAAAAAAAAAI/AAAAAAAABUU/elEvQB2L4Qk/s50-c-k-no/photo.jpg",
            "userId": "101588741636809151500"
          }
        }
      },
      "cell_type": "code",
      "source": [
        "print(\"Finding the base level accuracy for each label from data\")\n",
        "\"test.fillna('missing',inplace=True)\"\n",
        "\n",
        "#base level accuracy for each label from above\n",
        "\n",
        "base_accuracy = []\n",
        "print(\"Base Level Accuracy for Each Label\")\n",
        "for i in target:\n",
        "    base = ((toxictrain[i] == 0).sum()/len(toxictrain[i]))*100\n",
        "    print(i+':' ,format(base))\n",
        "    base_accuracy.append(base)\n",
        "print(base_accuracy)"
      ],
      "execution_count": 166,
      "outputs": [
        {
          "output_type": "stream",
          "text": [
            "Finding the base level accuracy for each label from data\n",
            "Base Level Accuracy for Each Label\n",
            "toxic: 90.41555169799024\n",
            "severe_toxic: 99.00044494300343\n",
            "obscene: 94.7051782592075\n",
            "threat: 99.70044682304429\n",
            "insult: 95.06363938309592\n",
            "identity_hate: 99.11951419744189\n",
            "[90.41555169799024, 99.00044494300343, 94.7051782592075, 99.70044682304429, 95.06363938309592, 99.11951419744189]\n"
          ],
          "name": "stdout"
        }
      ]
    },
    {
      "metadata": {
        "id": "ABL6lRvalHVj",
        "colab_type": "code",
        "colab": {
          "autoexec": {
            "startup": false,
            "wait_interval": 0
          },
          "base_uri": "https://localhost:8080/",
          "height": 101
        },
        "outputId": "8e9dc9ce-b85a-49fb-b740-4e5a397f2033",
        "executionInfo": {
          "status": "ok",
          "timestamp": 1527272111339,
          "user_tz": -330,
          "elapsed": 969,
          "user": {
            "displayName": "Nishkarsh Vardhan",
            "photoUrl": "//lh3.googleusercontent.com/-uHL0v6hEGG4/AAAAAAAAAAI/AAAAAAAABUU/elEvQB2L4Qk/s50-c-k-no/photo.jpg",
            "userId": "101588741636809151500"
          }
        }
      },
      "cell_type": "code",
      "source": [
        "#To check for UnLabelled text\n",
        "print(\"Finding comments from data which are not labelled at all!!\")\n",
        "print('Percentage of comments that are not labelled:')\n",
        "print(len(toxictrain[(toxictrain['toxic']==0) & (toxictrain['severe_toxic']==0) & (toxictrain['obscene']==0) & (toxictrain['threat']== 0) & (toxictrain['insult']==0) & (toxictrain['identity_hate']==0)]) / len(toxictrain)*100)\n",
        "print('Number of missing comments in comment_text:')\n",
        "toxictrain['comment_text'].isnull().sum()"
      ],
      "execution_count": 168,
      "outputs": [
        {
          "output_type": "stream",
          "text": [
            "Finding comments from data which are not labelled at all!!\n",
            "Percentage of comments that are not labelled:\n",
            "89.83211235124176\n",
            "Number of missing comments in comment_text:\n"
          ],
          "name": "stdout"
        },
        {
          "output_type": "execute_result",
          "data": {
            "text/plain": [
              "0"
            ]
          },
          "metadata": {
            "tags": []
          },
          "execution_count": 168
        }
      ]
    },
    {
      "metadata": {
        "id": "sYvLqER7vbL5",
        "colab_type": "code",
        "colab": {
          "autoexec": {
            "startup": false,
            "wait_interval": 0
          },
          "base_uri": "https://localhost:8080/",
          "height": 34
        },
        "outputId": "bda9a356-6412-435d-f089-e1b1a385e8ee",
        "executionInfo": {
          "status": "ok",
          "timestamp": 1527272163403,
          "user_tz": -330,
          "elapsed": 13992,
          "user": {
            "displayName": "Nishkarsh Vardhan",
            "photoUrl": "//lh3.googleusercontent.com/-uHL0v6hEGG4/AAAAAAAAAAI/AAAAAAAABUU/elEvQB2L4Qk/s50-c-k-no/photo.jpg",
            "userId": "101588741636809151500"
          }
        }
      },
      "cell_type": "code",
      "source": [
        "#TEXT PREPROCESSING OF DATA\n",
        "print(\"Preprocessing and cleaning the data making them in lowercase\")\n",
        "def preprocess_clean_text(string):\n",
        "  string = re.sub(r\"\\'d\",\" good \", string)\n",
        "  string = re.sub(r\"\\'d\",\" best \", string)\n",
        "  string = re.sub(r\"\\'d\",\" you \", string)\n",
        "  string = re.sub(r\"\\'d\",\" Hello \", string)\n",
        "  string = re.sub(r\"\\'d\",\" Hi \", string)\n",
        "  string = re.sub(r\"what's\", \"what is\", string)\n",
        "  string = re.sub(r\"\\'s\", \" \", string)\n",
        "  string = re.sub(r\"\\'ve\",\" have \" , string)\n",
        "  string = re.sub(r\"can't\", \"cannot \", string)\n",
        "  string = re.sub(r\"n't\", \" not \", string)\n",
        "  string = re.sub(r\"i'm\",\"i am\", string)\n",
        "  string = re.sub(r\"\\'re\",\" are \", string)\n",
        "  string = re.sub(r\"\\'d\",\" would \", string)\n",
        "  string = re.sub(r\"\\'d\",\" should \", string)\n",
        "  string = re.sub(r\"\\'d\",\" was \", string)\n",
        "  string = re.sub(r\"\\'ll'\",\" will \", string)\n",
        "  string = re.sub(r\"\\'scuse\", \" excuse \", string)\n",
        "  string = re.sub('\\W', ' ', string)\n",
        "  string = re.sub('\\s+', ' ', string)\n",
        "  string = string.strip(' ')\n",
        "  return string\n",
        "\n",
        "# clean the comment_text in train\n",
        "cleaned_train = []\n",
        "for i in range(0,len(toxictrain)):\n",
        "  cleaned_comment = preprocess_clean_text(toxictrain['comment_text'][i])\n",
        "  cleaned_train.append(cleaned_comment)\n",
        "toxictrain['comment_text'] = pd.Series(cleaned_train).astype(str)"
      ],
      "execution_count": 169,
      "outputs": [
        {
          "output_type": "stream",
          "text": [
            "Preprocessing and cleaning the data making them in lowercase\n"
          ],
          "name": "stdout"
        }
      ]
    },
    {
      "metadata": {
        "id": "Epcdk7L5lFeH",
        "colab_type": "code",
        "colab": {
          "autoexec": {
            "startup": false,
            "wait_interval": 0
          },
          "base_uri": "https://localhost:8080/",
          "height": 70
        },
        "outputId": "a2e02fb4-6bae-40da-b4dd-848173e7e65a",
        "executionInfo": {
          "status": "ok",
          "timestamp": 1527272195128,
          "user_tz": -330,
          "elapsed": 10171,
          "user": {
            "displayName": "Nishkarsh Vardhan",
            "photoUrl": "//lh3.googleusercontent.com/-uHL0v6hEGG4/AAAAAAAAAAI/AAAAAAAABUU/elEvQB2L4Qk/s50-c-k-no/photo.jpg",
            "userId": "101588741636809151500"
          }
        }
      },
      "cell_type": "code",
      "source": [
        "print(\"Example of train data in lower case form\")\n",
        "toxictrain['comment_text'] = toxictrain['comment_text'].map(lambda com : preprocess_clean_text(com.lower()))\n",
        "toxictrain['comment_text'][0]"
      ],
      "execution_count": 171,
      "outputs": [
        {
          "output_type": "stream",
          "text": [
            "Example of train data in lower case form\n"
          ],
          "name": "stdout"
        },
        {
          "output_type": "execute_result",
          "data": {
            "text/plain": [
              "'explanation why the edits made under my username hardcore metallica fan were reverted they were not vandalisms just closure on some gas after i voted at new york dolls fac and please do not remove the template from the talk page since i m retired now 89 205 38 27'"
            ]
          },
          "metadata": {
            "tags": []
          },
          "execution_count": 171
        }
      ]
    },
    {
      "metadata": {
        "id": "2flNnKDdvgYE",
        "colab_type": "code",
        "colab": {
          "autoexec": {
            "startup": false,
            "wait_interval": 0
          },
          "base_uri": "https://localhost:8080/",
          "height": 70
        },
        "outputId": "52eb9a96-1458-40e4-fecd-3f077641cccd",
        "executionInfo": {
          "status": "ok",
          "timestamp": 1527272212977,
          "user_tz": -330,
          "elapsed": 10129,
          "user": {
            "displayName": "Nishkarsh Vardhan",
            "photoUrl": "//lh3.googleusercontent.com/-uHL0v6hEGG4/AAAAAAAAAAI/AAAAAAAABUU/elEvQB2L4Qk/s50-c-k-no/photo.jpg",
            "userId": "101588741636809151500"
          }
        }
      },
      "cell_type": "code",
      "source": [
        "print(\"Example of Test data in lower case form\")\n",
        "toxictest['comment_text'] = toxictest['comment_text'].map(lambda com : preprocess_clean_text(com.lower()))\n",
        "toxictest['comment_text'][0]"
      ],
      "execution_count": 172,
      "outputs": [
        {
          "output_type": "stream",
          "text": [
            "Example of Test data in lower case form\n"
          ],
          "name": "stdout"
        },
        {
          "output_type": "execute_result",
          "data": {
            "text/plain": [
              "'yo bitch ja rule is more succesful then you ll ever be whats up with you and hating you sad mofuckas i should bitch slap ur pethedic white faces and get you to kiss my ass you guys sicken me ja rule is about pride in da music man dont diss that shit on him and nothin is wrong bein like tupac he was a brother too fuckin white boys get things right next time'"
            ]
          },
          "metadata": {
            "tags": []
          },
          "execution_count": 172
        }
      ]
    },
    {
      "metadata": {
        "id": "LRBVCVqy3D1T",
        "colab_type": "code",
        "colab": {
          "autoexec": {
            "startup": false,
            "wait_interval": 0
          },
          "base_uri": "https://localhost:8080/",
          "height": 34
        },
        "outputId": "499b5bd3-856d-4151-cffe-1de997d0561d",
        "executionInfo": {
          "status": "ok",
          "timestamp": 1527272238085,
          "user_tz": -330,
          "elapsed": 11614,
          "user": {
            "displayName": "Nishkarsh Vardhan",
            "photoUrl": "//lh3.googleusercontent.com/-uHL0v6hEGG4/AAAAAAAAAAI/AAAAAAAABUU/elEvQB2L4Qk/s50-c-k-no/photo.jpg",
            "userId": "101588741636809151500"
          }
        }
      },
      "cell_type": "code",
      "source": [
        "#Test set\n",
        "print(\"Preprocessing test data\")\n",
        "cleaned_test_comment = []\n",
        "for i in range(0,len(toxictest)):\n",
        "  cleaned_comment = preprocess_clean_text(toxictest['comment_text'][i])\n",
        "  cleaned_test_comment.append(cleaned_comment)\n",
        "toxictest['comment_text'] = pd.Series(cleaned_test_comment).astype(str)"
      ],
      "execution_count": 173,
      "outputs": [
        {
          "output_type": "stream",
          "text": [
            "Preprocessing test data\n"
          ],
          "name": "stdout"
        }
      ]
    },
    {
      "metadata": {
        "id": "itYomEs03Gix",
        "colab_type": "code",
        "colab": {
          "autoexec": {
            "startup": false,
            "wait_interval": 0
          },
          "base_uri": "https://localhost:8080/",
          "height": 151
        },
        "outputId": "925a1b91-4e19-4b34-c637-35aa848b7549",
        "executionInfo": {
          "status": "ok",
          "timestamp": 1527272244995,
          "user_tz": -330,
          "elapsed": 953,
          "user": {
            "displayName": "Nishkarsh Vardhan",
            "photoUrl": "//lh3.googleusercontent.com/-uHL0v6hEGG4/AAAAAAAAAAI/AAAAAAAABUU/elEvQB2L4Qk/s50-c-k-no/photo.jpg",
            "userId": "101588741636809151500"
          }
        }
      },
      "cell_type": "code",
      "source": [
        "print(\"Vectorizing\")\n",
        "X=toxictrain.comment_text\n",
        "text_X=toxictest.comment_text\n",
        "\n",
        "from sklearn.feature_extraction.text import CountVectorizer\n",
        "from sklearn.feature_extraction.text import TfidfVectorizer\n",
        "vectors = TfidfVectorizer(max_features=40000,stop_words='english')\n",
        "vectors"
      ],
      "execution_count": 174,
      "outputs": [
        {
          "output_type": "stream",
          "text": [
            "Vectorizing\n"
          ],
          "name": "stdout"
        },
        {
          "output_type": "execute_result",
          "data": {
            "text/plain": [
              "TfidfVectorizer(analyzer='word', binary=False, decode_error='strict',\n",
              "        dtype=<class 'numpy.int64'>, encoding='utf-8', input='content',\n",
              "        lowercase=True, max_df=1.0, max_features=40000, min_df=1,\n",
              "        ngram_range=(1, 1), norm='l2', preprocessor=None, smooth_idf=True,\n",
              "        stop_words='english', strip_accents=None, sublinear_tf=False,\n",
              "        token_pattern='(?u)\\\\b\\\\w\\\\w+\\\\b', tokenizer=None, use_idf=True,\n",
              "        vocabulary=None)"
            ]
          },
          "metadata": {
            "tags": []
          },
          "execution_count": 174
        }
      ]
    },
    {
      "metadata": {
        "id": "0oN0SBHG3Rp9",
        "colab_type": "code",
        "colab": {
          "autoexec": {
            "startup": false,
            "wait_interval": 0
          },
          "base_uri": "https://localhost:8080/",
          "height": 50
        },
        "outputId": "d9ad3f11-b0ac-4061-f562-f0c535e97335",
        "executionInfo": {
          "status": "ok",
          "timestamp": 1527272268991,
          "user_tz": -330,
          "elapsed": 9507,
          "user": {
            "displayName": "Nishkarsh Vardhan",
            "photoUrl": "//lh3.googleusercontent.com/-uHL0v6hEGG4/AAAAAAAAAAI/AAAAAAAABUU/elEvQB2L4Qk/s50-c-k-no/photo.jpg",
            "userId": "101588741636809151500"
          }
        }
      },
      "cell_type": "code",
      "source": [
        "\n",
        "X_train=toxictrain.comment_text\n",
        "# learn the vocabulary in the training data, then use it to create a document-term matrix\n",
        "X_docmat = vectors.fit_transform(X_train)\n",
        "# examine the document-term matrix created from X_train\n",
        "X_docmat"
      ],
      "execution_count": 175,
      "outputs": [
        {
          "output_type": "execute_result",
          "data": {
            "text/plain": [
              "<159571x40000 sparse matrix of type '<class 'numpy.float64'>'\n",
              "\twith 3824615 stored elements in Compressed Sparse Row format>"
            ]
          },
          "metadata": {
            "tags": []
          },
          "execution_count": 175
        }
      ]
    },
    {
      "metadata": {
        "id": "97Fr9Gr83Xtx",
        "colab_type": "code",
        "colab": {
          "autoexec": {
            "startup": false,
            "wait_interval": 0
          },
          "base_uri": "https://localhost:8080/",
          "height": 50
        },
        "outputId": "1add9960-6767-4152-a507-b29b988c393a",
        "executionInfo": {
          "status": "ok",
          "timestamp": 1527272278014,
          "user_tz": -330,
          "elapsed": 8685,
          "user": {
            "displayName": "Nishkarsh Vardhan",
            "photoUrl": "//lh3.googleusercontent.com/-uHL0v6hEGG4/AAAAAAAAAAI/AAAAAAAABUU/elEvQB2L4Qk/s50-c-k-no/photo.jpg",
            "userId": "101588741636809151500"
          }
        }
      },
      "cell_type": "code",
      "source": [
        "X_test=toxictest.comment_text\n",
        "# learn the vocabulary in the testing data, then use it to create a document-term matrix\n",
        "X_test_docmat = vectors.fit_transform(X_test)\n",
        "# examine the document-term matrix created from X_test\n",
        "X_test_docmat\n"
      ],
      "execution_count": 176,
      "outputs": [
        {
          "output_type": "execute_result",
          "data": {
            "text/plain": [
              "<153164x40000 sparse matrix of type '<class 'numpy.float64'>'\n",
              "\twith 3224863 stored elements in Compressed Sparse Row format>"
            ]
          },
          "metadata": {
            "tags": []
          },
          "execution_count": 176
        }
      ]
    },
    {
      "metadata": {
        "id": "zdk1jAUL3bp6",
        "colab_type": "code",
        "colab": {
          "autoexec": {
            "startup": false,
            "wait_interval": 0
          },
          "base_uri": "https://localhost:8080/",
          "height": 538
        },
        "outputId": "f9b6f266-145f-46cb-f230-030960662be4",
        "executionInfo": {
          "status": "ok",
          "timestamp": 1527272338281,
          "user_tz": -330,
          "elapsed": 47388,
          "user": {
            "displayName": "Nishkarsh Vardhan",
            "photoUrl": "//lh3.googleusercontent.com/-uHL0v6hEGG4/AAAAAAAAAAI/AAAAAAAABUU/elEvQB2L4Qk/s50-c-k-no/photo.jpg",
            "userId": "101588741636809151500"
          }
        }
      },
      "cell_type": "code",
      "source": [
        "print(\"Train the model with Logistic regression\")\n",
        "#Lets train the data with Logistic regression\n",
        "#import and instantiate the Logistic Regression model\n",
        "#from sklearn.linear_model import LogisticRegression\n",
        "from sklearn.metrics import accuracy_score\n",
        "logregress = LogisticRegression(C=12.0,solver='sag')\n",
        "\n",
        "change_accuracy = []\n",
        "for i,label in enumerate(target):\n",
        "    print('Processing {}'.format(label))\n",
        "    print(label+\" is: \",base_accuracy[i])\n",
        "    Y = toxictrain[label]\n",
        "    \n",
        "    # train the model using X_docmat & y\n",
        "    logregress.fit(X_docmat, Y)\n",
        "    # compute the training accuracy\n",
        "    Y_predict_X = logregress.predict(X_docmat)\n",
        "    print('Training accuracy is         {}'.format(accuracy_score(Y, Y_predict_X)*100))\n",
        "    print(\"Increase from Base accuracy is {}\".format(accuracy_score(Y, Y_predict_X)*100 - base_accuracy[i]))\n",
        "    change_accuracy.append(accuracy_score(Y, Y_predict_X)*100 - base_accuracy[i])\n",
        "    print(\"\")\n",
        "    # compute the predicted probabilities for X_test_dtm\n",
        "    test_Y_prob = logregress.predict_proba(X_test_docmat)[:,1]"
      ],
      "execution_count": 177,
      "outputs": [
        {
          "output_type": "stream",
          "text": [
            "Train the model with Logistic regression\n",
            "Processing toxic\n",
            "toxic is:  90.41555169799024\n",
            "Training accuracy is         97.91127460503475\n",
            "Increase from Base accuracy is 7.4957229070445095\n",
            "\n",
            "Processing severe_toxic\n",
            "severe_toxic is:  99.00044494300343\n",
            "Training accuracy is         99.41154721095938\n",
            "Increase from Base accuracy is 0.41110226795595395\n",
            "\n",
            "Processing obscene\n",
            "obscene is:  94.7051782592075\n",
            "Training accuracy is         98.99104473870565\n",
            "Increase from Base accuracy is 4.285866479498154\n",
            "\n",
            "Processing threat\n",
            "threat is:  99.70044682304429\n",
            "Training accuracy is         99.87341058212333\n",
            "Increase from Base accuracy is 0.17296375907903894\n",
            "\n",
            "Processing insult\n",
            "insult is:  95.06363938309592\n",
            "Training accuracy is         98.46400661774382\n",
            "Increase from Base accuracy is 3.400367234647902\n",
            "\n",
            "Processing identity_hate\n",
            "identity_hate is:  99.11951419744189\n",
            "Training accuracy is         99.60268469834745\n",
            "Increase from Base accuracy is 0.48317050090555824\n",
            "\n"
          ],
          "name": "stdout"
        }
      ]
    },
    {
      "metadata": {
        "id": "pY86FgLx36eM",
        "colab_type": "code",
        "colab": {
          "autoexec": {
            "startup": false,
            "wait_interval": 0
          },
          "base_uri": "https://localhost:8080/",
          "height": 353
        },
        "outputId": "9eed2d6d-4adc-4d56-c006-478495fb2996",
        "executionInfo": {
          "status": "ok",
          "timestamp": 1527272340160,
          "user_tz": -330,
          "elapsed": 1779,
          "user": {
            "displayName": "Nishkarsh Vardhan",
            "photoUrl": "//lh3.googleusercontent.com/-uHL0v6hEGG4/AAAAAAAAAAI/AAAAAAAABUU/elEvQB2L4Qk/s50-c-k-no/photo.jpg",
            "userId": "101588741636809151500"
          }
        }
      },
      "cell_type": "code",
      "source": [
        "print(\"Plotting the change happen after training the data\")\n",
        "plt.bar(target,change_accuracy)\n",
        "plt.ylabel(\"% Increase in Accuracy from base accuracy\")\n",
        "plt.xlabel(\"Labels\")\n",
        "plt.gcf().set_size_inches(12,5)\n",
        "plt.tick_params(labelsize=12)\n",
        "plt.show()"
      ],
      "execution_count": 178,
      "outputs": [
        {
          "output_type": "stream",
          "text": [
            "Plotting the change happen after training the data\n"
          ],
          "name": "stdout"
        },
        {
          "output_type": "display_data",
          "data": {
            "image/png": "[encoded data removed]",
            "text/plain": [
              "<matplotlib.figure.Figure at 0x7fa7175cc550>"
            ]
          },
          "metadata": {
            "tags": []
          }
        }
      ]
    },
    {
      "metadata": {
        "id": "xk-WUlqG4Yao",
        "colab_type": "code",
        "colab": {
          "autoexec": {
            "startup": false,
            "wait_interval": 0
          },
          "base_uri": "https://localhost:8080/",
          "height": 34
        },
        "outputId": "0673bf32-58bc-464a-a8e1-20f11e77b9bf",
        "executionInfo": {
          "status": "ok",
          "timestamp": 1527272345673,
          "user_tz": -330,
          "elapsed": 914,
          "user": {
            "displayName": "Nishkarsh Vardhan",
            "photoUrl": "//lh3.googleusercontent.com/-uHL0v6hEGG4/AAAAAAAAAAI/AAAAAAAABUU/elEvQB2L4Qk/s50-c-k-no/photo.jpg",
            "userId": "101588741636809151500"
          }
        }
      },
      "cell_type": "code",
      "source": [
        "\n",
        "train_pipe, test_pipe = train_test_split(toxictrain, random_state=42, test_size=0.33,shuffle=True)\n",
        "X_test = test_pipe.comment_text\n",
        "X_train = train_pipe.comment_text\n",
        "print(X_train.shape,X_test.shape)"
      ],
      "execution_count": 179,
      "outputs": [
        {
          "output_type": "stream",
          "text": [
            "(106912,) (52659,)\n"
          ],
          "name": "stdout"
        }
      ]
    },
    {
      "metadata": {
        "id": "3w53lBOcm-Dh",
        "colab_type": "code",
        "colab": {
          "autoexec": {
            "startup": false,
            "wait_interval": 0
          },
          "base_uri": "https://localhost:8080/",
          "height": 269
        },
        "outputId": "18f59977-0a19-48ce-c23b-3d92e0021b47",
        "executionInfo": {
          "status": "ok",
          "timestamp": 1527272456129,
          "user_tz": -330,
          "elapsed": 68962,
          "user": {
            "displayName": "Nishkarsh Vardhan",
            "photoUrl": "//lh3.googleusercontent.com/-uHL0v6hEGG4/AAAAAAAAAAI/AAAAAAAABUU/elEvQB2L4Qk/s50-c-k-no/photo.jpg",
            "userId": "101588741636809151500"
          }
        }
      },
      "cell_type": "code",
      "source": [
        "print(\"Training the model using pipeline to accurately fit the test data using stopwords\")\n",
        "from sklearn.pipeline import Pipeline\n",
        "from sklearn.multiclass import OneVsRestClassifier\n",
        "from sklearn.feature_extraction.text import TfidfVectorizer\n",
        "import nltk\n",
        "nltk.download('stopwords')\n",
        "from nltk.corpus import stopwords\n",
        "stop_words = set(stopwords.words('english'))\n",
        "\n",
        "\n",
        "\n",
        "#Pipeline way for Logistic regression to enhance the data\n",
        "logregress_pipeline = Pipeline([\n",
        "                ('tfidf', TfidfVectorizer(stop_words=stop_words)),\n",
        "                ('clf', OneVsRestClassifier(LogisticRegression(solver='sag'), n_jobs=1)),\n",
        "            ])\n",
        "\n",
        "for category in target:\n",
        "    print('Processing {}'.format(category))\n",
        "    \n",
        "    # train the model using X_docmat & y\n",
        "    logregress_pipeline.fit(X_train, train_pipe[category])\n",
        "    \n",
        "    # compute the testing accuracy\n",
        "    prediction = logregress_pipeline.predict(X_test)\n",
        "    print('Test accuracy is {}'.format(accuracy_score(test_pipe[category], prediction)))"
      ],
      "execution_count": 180,
      "outputs": [
        {
          "output_type": "stream",
          "text": [
            "Training the model using pipeline to accurately fit the test data using stopwords\n",
            "[nltk_data] Downloading package stopwords to /content/nltk_data...\n",
            "[nltk_data]   Package stopwords is already up-to-date!\n",
            "Processing toxic\n",
            "Test accuracy is 0.9549174879887579\n",
            "Processing severe_toxic\n",
            "Test accuracy is 0.9910556600011394\n",
            "Processing obscene\n",
            "Test accuracy is 0.9761864068820145\n",
            "Processing threat\n",
            "Test accuracy is 0.9973793653506523\n",
            "Processing insult\n",
            "Test accuracy is 0.9687043050570653\n",
            "Processing identity_hate\n",
            "Test accuracy is 0.991758293928863\n"
          ],
          "name": "stdout"
        }
      ]
    },
    {
      "metadata": {
        "id": "RX_TD3OOneyY",
        "colab_type": "code",
        "colab": {
          "autoexec": {
            "startup": false,
            "wait_interval": 0
          }
        }
      },
      "cell_type": "code",
      "source": [
        ""
      ],
      "execution_count": 0,
      "outputs": []
    },
    {
      "metadata": {
        "id": "8CS4p41Z5qPo",
        "colab_type": "code",
        "colab": {
          "autoexec": {
            "startup": false,
            "wait_interval": 0
          }
        }
      },
      "cell_type": "code",
      "source": [
        ""
      ],
      "execution_count": 0,
      "outputs": []
    }
  ]
}