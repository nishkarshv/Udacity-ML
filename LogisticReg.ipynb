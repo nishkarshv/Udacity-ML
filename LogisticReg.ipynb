{
  "nbformat": 4,
  "nbformat_minor": 0,
  "metadata": {
    "colab": {
      "name": "Untitled5.ipynb",
      "version": "0.3.2",
      "provenance": []
    },
    "kernelspec": {
      "name": "python3",
      "display_name": "Python 3"
    }
  },
  "cells": [
    {
      "cell_type": "markdown",
      "metadata": {
        "id": "view-in-github",
        "colab_type": "text"
      },
      "source": [
        "[View in Colaboratory](https://colab.research.google.com/github/nishkarshv/Udacity-ML/blob/master/LogisticReg.ipynb)"
      ]
    },
    {
      "metadata": {
        "id": "_KFs1_tLuBg7",
        "colab_type": "code",
        "colab": {}
      },
      "cell_type": "code",
      "source": [
        "!pip install -U -q PyDrive\n",
        "\n",
        "from pydrive.auth import GoogleAuth\n",
        "from pydrive.drive import GoogleDrive\n",
        "from google.colab import auth\n",
        "from oauth2client.client import GoogleCredentials\n",
        "\n",
        "# 1. Authenticate and create the PyDrive client.\n",
        "auth.authenticate_user()\n",
        "gauth = GoogleAuth()\n",
        "gauth.credentials = GoogleCredentials.get_application_default()\n",
        "drive = GoogleDrive(gauth)\n",
        "\n",
        "# 2. Load a file by ID and create local file.\n",
        "downloaded = drive.CreateFile({'id':'1os1T4eWQfmGNkCI8z4Fx3lJ39dWcsG4l'}) # replace fileid with Id of file you want to access\n",
        "downloaded.GetContentFile('data\\train.csv') # now you can use train.csv \n",
        "downloaded = drive.CreateFile({'id':'1fYwpjp6hsbvmvqagCCpa63Iqoil-Dgzq'}) # replace fileid with Id of file you want to access\n",
        "downloaded.GetContentFile('data\\test.csv') # now you can use train.csv \n",
        "downloaded = drive.CreateFile({'id':'1h32uyq4j5dU5xiHKT3V7VvF4EPNACuVD'}) # replace fileid with Id of file you want to access\n",
        "downloaded.GetContentFile('data\\sample_submission.csv') # now you can use train.csv "
      ],
      "execution_count": 0,
      "outputs": []
    },
    {
      "metadata": {
        "id": "tzsEATGYuxu0",
        "colab_type": "code",
        "colab": {}
      },
      "cell_type": "code",
      "source": [
        "import pandas as pd, numpy as np\n",
        "from sklearn.linear_model import LogisticRegression\n",
        "from sklearn.feature_extraction.text import CountVectorizer, TfidfVectorizer\n",
        "from __future__ import print_function\n",
        "import seaborn as sns\n",
        "from matplotlib import pyplot as plt\n",
        "from sklearn.linear_model import LinearRegression\n",
        "import re\n",
        "\n",
        "train = pd.read_csv('data\\train.csv')\n",
        "test = pd.read_csv('data\\test.csv')\n",
        "subm = pd.read_csv('data\\sample_submission.csv')"
      ],
      "execution_count": 0,
      "outputs": []
    },
    {
      "metadata": {
        "id": "UuuqpX_pu3BV",
        "colab_type": "code",
        "colab": {
          "base_uri": "https://localhost:8080/",
          "height": 34
        },
        "outputId": "de83cb53-3d1c-4d8f-8c4b-aebf5e11a683"
      },
      "cell_type": "code",
      "source": [
        "lens = train.comment_text.str.len()\n",
        "lens.mean(), lens.std(), lens.max()"
      ],
      "execution_count": 3,
      "outputs": [
        {
          "output_type": "execute_result",
          "data": {
            "text/plain": [
              "(394.0732213246768, 590.7202819048919, 5000)"
            ]
          },
          "metadata": {
            "tags": []
          },
          "execution_count": 3
        }
      ]
    },
    {
      "metadata": {
        "id": "S_qDkV6pvKJA",
        "colab_type": "code",
        "colab": {
          "base_uri": "https://localhost:8080/",
          "height": 282
        },
        "outputId": "3032c82b-658d-4460-8206-36c459ab64be"
      },
      "cell_type": "code",
      "source": [
        "%matplotlib inline\n",
        "\n",
        "lens.hist()"
      ],
      "execution_count": 4,
      "outputs": [
        {
          "output_type": "execute_result",
          "data": {
            "text/plain": [
              "<matplotlib.axes._subplots.AxesSubplot at 0x7fae37464080>"
            ]
          },
          "metadata": {
            "tags": []
          },
          "execution_count": 4
        },
        {
          "output_type": "display_data",
          "data": {
            "image/png": "[encoded data removed]",
            "text/plain": [
              "<matplotlib.figure.Figure at 0x7fae498d5b00>"
            ]
          },
          "metadata": {
            "tags": []
          }
        }
      ]
    },
    {
      "metadata": {
        "id": "-8_AfQ9WvMy2",
        "colab_type": "code",
        "colab": {
          "base_uri": "https://localhost:8080/",
          "height": 284
        },
        "outputId": "68d0bad0-1f61-4b22-91c3-2ca4c8fcba4a"
      },
      "cell_type": "code",
      "source": [
        "target = ['toxic', 'severe_toxic', 'obscene', 'threat', 'insult', 'identity_hate']\n",
        "train['none'] = 1-train[target].max(axis=1)\n",
        "train.describe()"
      ],
      "execution_count": 5,
      "outputs": [
        {
          "output_type": "execute_result",
          "data": {
            "text/html": [
              "<div>\n",
              "<style scoped>\n",
              "    .dataframe tbody tr th:only-of-type {\n",
              "        vertical-align: middle;\n",
              "    }\n",
              "\n",
              "    .dataframe tbody tr th {\n",
              "        vertical-align: top;\n",
              "    }\n",
              "\n",
              "    .dataframe thead th {\n",
              "        text-align: right;\n",
              "    }\n",
              "</style>\n",
              "<table border=\"1\" class=\"dataframe\">\n",
              "  <thead>\n",
              "    <tr style=\"text-align: right;\">\n",
              "      <th></th>\n",
              "      <th>toxic</th>\n",
              "      <th>severe_toxic</th>\n",
              "      <th>obscene</th>\n",
              "      <th>threat</th>\n",
              "      <th>insult</th>\n",
              "      <th>identity_hate</th>\n",
              "      <th>none</th>\n",
              "    </tr>\n",
              "  </thead>\n",
              "  <tbody>\n",
              "    <tr>\n",
              "      <th>count</th>\n",
              "      <td>159571.000000</td>\n",
              "      <td>159571.000000</td>\n",
              "      <td>159571.000000</td>\n",
              "      <td>159571.000000</td>\n",
              "      <td>159571.000000</td>\n",
              "      <td>159571.000000</td>\n",
              "      <td>159571.000000</td>\n",
              "    </tr>\n",
              "    <tr>\n",
              "      <th>mean</th>\n",
              "      <td>0.095844</td>\n",
              "      <td>0.009996</td>\n",
              "      <td>0.052948</td>\n",
              "      <td>0.002996</td>\n",
              "      <td>0.049364</td>\n",
              "      <td>0.008805</td>\n",
              "      <td>0.898321</td>\n",
              "    </tr>\n",
              "    <tr>\n",
              "      <th>std</th>\n",
              "      <td>0.294379</td>\n",
              "      <td>0.099477</td>\n",
              "      <td>0.223931</td>\n",
              "      <td>0.054650</td>\n",
              "      <td>0.216627</td>\n",
              "      <td>0.093420</td>\n",
              "      <td>0.302226</td>\n",
              "    </tr>\n",
              "    <tr>\n",
              "      <th>min</th>\n",
              "      <td>0.000000</td>\n",
              "      <td>0.000000</td>\n",
              "      <td>0.000000</td>\n",
              "      <td>0.000000</td>\n",
              "      <td>0.000000</td>\n",
              "      <td>0.000000</td>\n",
              "      <td>0.000000</td>\n",
              "    </tr>\n",
              "    <tr>\n",
              "      <th>25%</th>\n",
              "      <td>0.000000</td>\n",
              "      <td>0.000000</td>\n",
              "      <td>0.000000</td>\n",
              "      <td>0.000000</td>\n",
              "      <td>0.000000</td>\n",
              "      <td>0.000000</td>\n",
              "      <td>1.000000</td>\n",
              "    </tr>\n",
              "    <tr>\n",
              "      <th>50%</th>\n",
              "      <td>0.000000</td>\n",
              "      <td>0.000000</td>\n",
              "      <td>0.000000</td>\n",
              "      <td>0.000000</td>\n",
              "      <td>0.000000</td>\n",
              "      <td>0.000000</td>\n",
              "      <td>1.000000</td>\n",
              "    </tr>\n",
              "    <tr>\n",
              "      <th>75%</th>\n",
              "      <td>0.000000</td>\n",
              "      <td>0.000000</td>\n",
              "      <td>0.000000</td>\n",
              "      <td>0.000000</td>\n",
              "      <td>0.000000</td>\n",
              "      <td>0.000000</td>\n",
              "      <td>1.000000</td>\n",
              "    </tr>\n",
              "    <tr>\n",
              "      <th>max</th>\n",
              "      <td>1.000000</td>\n",
              "      <td>1.000000</td>\n",
              "      <td>1.000000</td>\n",
              "      <td>1.000000</td>\n",
              "      <td>1.000000</td>\n",
              "      <td>1.000000</td>\n",
              "      <td>1.000000</td>\n",
              "    </tr>\n",
              "  </tbody>\n",
              "</table>\n",
              "</div>"
            ],
            "text/plain": [
              "               toxic   severe_toxic        obscene         threat  \\\n",
              "count  159571.000000  159571.000000  159571.000000  159571.000000   \n",
              "mean        0.095844       0.009996       0.052948       0.002996   \n",
              "std         0.294379       0.099477       0.223931       0.054650   \n",
              "min         0.000000       0.000000       0.000000       0.000000   \n",
              "25%         0.000000       0.000000       0.000000       0.000000   \n",
              "50%         0.000000       0.000000       0.000000       0.000000   \n",
              "75%         0.000000       0.000000       0.000000       0.000000   \n",
              "max         1.000000       1.000000       1.000000       1.000000   \n",
              "\n",
              "              insult  identity_hate           none  \n",
              "count  159571.000000  159571.000000  159571.000000  \n",
              "mean        0.049364       0.008805       0.898321  \n",
              "std         0.216627       0.093420       0.302226  \n",
              "min         0.000000       0.000000       0.000000  \n",
              "25%         0.000000       0.000000       1.000000  \n",
              "50%         0.000000       0.000000       1.000000  \n",
              "75%         0.000000       0.000000       1.000000  \n",
              "max         1.000000       1.000000       1.000000  "
            ]
          },
          "metadata": {
            "tags": []
          },
          "execution_count": 5
        }
      ]
    },
    {
      "metadata": {
        "id": "zQl48bA9vQcj",
        "colab_type": "code",
        "colab": {
          "base_uri": "https://localhost:8080/",
          "height": 656
        },
        "outputId": "1794cacd-fb05-4518-d50e-63b3f0a730e5"
      },
      "cell_type": "code",
      "source": [
        "fig,ax = plt.subplots(2,3,figsize=(16,10))\n",
        "ax1,ax2,ax3,ax4,ax5,ax6 = ax.flatten()\n",
        "sns.countplot(train['toxic'],palette= 'viridis',ax=ax1)\n",
        "sns.countplot(train['severe_toxic'], palette= 'viridis',ax=ax2)\n",
        "sns.countplot(train['obscene'], palette= 'viridis',ax=ax3)\n",
        "sns.countplot(train['threat'], palette= 'viridis',ax = ax4)\n",
        "sns.countplot(train['insult'], palette = 'viridis',ax=ax5)\n",
        "sns.countplot(train['identity_hate'], palette = 'viridis', ax = ax6)"
      ],
      "execution_count": 6,
      "outputs": [
        {
          "output_type": "stream",
          "text": [
            "/usr/local/lib/python3.6/dist-packages/seaborn/categorical.py:1428: FutureWarning: remove_na is deprecated and is a private function. Do not use.\n",
            "  stat_data = remove_na(group_data)\n"
          ],
          "name": "stderr"
        },
        {
          "output_type": "execute_result",
          "data": {
            "text/plain": [
              "<matplotlib.axes._subplots.AxesSubplot at 0x7fae2bd3c160>"
            ]
          },
          "metadata": {
            "tags": []
          },
          "execution_count": 6
        },
        {
          "output_type": "display_data",
          "data": {
            "image/png": "[encoded data removed]",
            "text/plain": [
              "<matplotlib.figure.Figure at 0x7fae2de7ab38>"
            ]
          },
          "metadata": {
            "tags": []
          }
        }
      ]
    },
    {
      "metadata": {
        "id": "Xf3iSV8LvVDF",
        "colab_type": "code",
        "colab": {
          "base_uri": "https://localhost:8080/",
          "height": 168
        },
        "outputId": "0962c408-44ed-42e6-b85a-d6c4f61e8ebf"
      },
      "cell_type": "code",
      "source": [
        "test.fillna('missing',inplace=True)\n",
        "\n",
        "#[x for x in target train_df[x].sum()/len(train_df)]#[x for \n",
        "\n",
        "base_accuracy = []\n",
        "print(\"Base Accuracy for Each Label\")\n",
        "for i in target:\n",
        "    base_acc = ((train[i] == 0).sum()/len(train[i]))*100\n",
        "    print(i+':' ,format(base_acc))\n",
        "    base_accuracy.append(base_acc)\n",
        "print(50*'_')\n",
        "print(base_accuracy)"
      ],
      "execution_count": 7,
      "outputs": [
        {
          "output_type": "stream",
          "text": [
            "Base Accuracy for Each Label\n",
            "toxic: 90.41555169799024\n",
            "severe_toxic: 99.00044494300343\n",
            "obscene: 94.7051782592075\n",
            "threat: 99.70044682304429\n",
            "insult: 95.06363938309592\n",
            "identity_hate: 99.11951419744189\n",
            "__________________________________________________\n",
            "[90.41555169799024, 99.00044494300343, 94.7051782592075, 99.70044682304429, 95.06363938309592, 99.11951419744189]\n"
          ],
          "name": "stdout"
        }
      ]
    },
    {
      "metadata": {
        "id": "sYvLqER7vbL5",
        "colab_type": "code",
        "colab": {}
      },
      "cell_type": "code",
      "source": [
        "#TEXT PREPROCESSING\n",
        "def clean_text(text):\n",
        "  text = re.sub(r\"what's\", \"what is\", text)\n",
        "  text = re.sub(r\"\\'s\", \" \", text)\n",
        "  text = re.sub(r\"\\'ve\",\" have \" , text)\n",
        "  text = re.sub(r\"can't\", \"cannot \", text)\n",
        "  text = re.sub(r\"n't\", \" not \", text)\n",
        "  text = re.sub(r\"i'm\",\"i am\", text)\n",
        "  text = re.sub(r\"\\'re\",\" are \", text)\n",
        "  text = re.sub(r\"\\'d\",\" would \", text)\n",
        "  text = re.sub(r\"\\'ll'\",\" will \", text)\n",
        "  text = re.sub(r\"\\'scuse\", \" excuse \", text)\n",
        "  text = re.sub('\\W', ' ', text)\n",
        "  text = re.sub('\\s+', ' ', text)\n",
        "  text = text.strip(' ')\n",
        "  return text\n",
        "\n",
        "# clean the comment_text in train_df\n",
        "cleaned_train_comment = []\n",
        "for i in range(0,len(train)):\n",
        " # print(train['comment_text'][i])\n",
        "  cleaned_comment = clean_text(train['comment_text'][i])\n",
        "  cleaned_train_comment.append(cleaned_comment)\n",
        "train['comment_text'] = pd.Series(cleaned_train_comment).astype(str)"
      ],
      "execution_count": 0,
      "outputs": []
    },
    {
      "metadata": {
        "id": "LRBVCVqy3D1T",
        "colab_type": "code",
        "colab": {}
      },
      "cell_type": "code",
      "source": [
        "#Test set\n",
        "cleaned_test_comment = []\n",
        "for i in range(0,len(test)):\n",
        "  cleaned_comment = clean_text(test['comment_text'][i])\n",
        "  cleaned_test_comment.append(cleaned_comment)\n",
        "test['comment_text'] = pd.Series(cleaned_test_comment).astype(str)"
      ],
      "execution_count": 0,
      "outputs": []
    },
    {
      "metadata": {
        "id": "itYomEs03Gix",
        "colab_type": "code",
        "colab": {
          "base_uri": "https://localhost:8080/",
          "height": 134
        },
        "outputId": "f4fcd15b-8c7e-400a-dbdf-b4ef7fc078ee"
      },
      "cell_type": "code",
      "source": [
        "X=train.comment_text\n",
        "text_X=test.comment_text\n",
        "\n",
        "from sklearn.feature_extraction.text import CountVectorizer\n",
        "from sklearn.feature_extraction.text import TfidfVectorizer\n",
        "vect = TfidfVectorizer(max_features=40000,stop_words='english')\n",
        "vect"
      ],
      "execution_count": 10,
      "outputs": [
        {
          "output_type": "execute_result",
          "data": {
            "text/plain": [
              "TfidfVectorizer(analyzer='word', binary=False, decode_error='strict',\n",
              "        dtype=<class 'numpy.int64'>, encoding='utf-8', input='content',\n",
              "        lowercase=True, max_df=1.0, max_features=40000, min_df=1,\n",
              "        ngram_range=(1, 1), norm='l2', preprocessor=None, smooth_idf=True,\n",
              "        stop_words='english', strip_accents=None, sublinear_tf=False,\n",
              "        token_pattern='(?u)\\\\b\\\\w\\\\w+\\\\b', tokenizer=None, use_idf=True,\n",
              "        vocabulary=None)"
            ]
          },
          "metadata": {
            "tags": []
          },
          "execution_count": 10
        }
      ]
    },
    {
      "metadata": {
        "id": "0oN0SBHG3Rp9",
        "colab_type": "code",
        "colab": {
          "base_uri": "https://localhost:8080/",
          "height": 50
        },
        "outputId": "58ead182-b1e6-463f-810d-eb8f8036d42e"
      },
      "cell_type": "code",
      "source": [
        "X=train.comment_text\n",
        "text_X=test.comment_text\n",
        "# learn the vocabulary in the training data, then use it to create a document-term matrix\n",
        "X_dtm = vect.fit_transform(X)\n",
        "# examine the document-term matrix created from X_train\n",
        "X_dtm"
      ],
      "execution_count": 11,
      "outputs": [
        {
          "output_type": "execute_result",
          "data": {
            "text/plain": [
              "<159571x40000 sparse matrix of type '<class 'numpy.float64'>'\n",
              "\twith 3820459 stored elements in Compressed Sparse Row format>"
            ]
          },
          "metadata": {
            "tags": []
          },
          "execution_count": 11
        }
      ]
    },
    {
      "metadata": {
        "id": "97Fr9Gr83Xtx",
        "colab_type": "code",
        "colab": {
          "base_uri": "https://localhost:8080/",
          "height": 50
        },
        "outputId": "53511ce2-b155-4b04-de9a-141a846744f3"
      },
      "cell_type": "code",
      "source": [
        "X=train.comment_text\n",
        "text_X=test.comment_text\n",
        "\n",
        "test_X_dtm = vect.transform(text_X)\n",
        "# examine the document-term matrix from X_test\n",
        "test_X_dtm"
      ],
      "execution_count": 12,
      "outputs": [
        {
          "output_type": "execute_result",
          "data": {
            "text/plain": [
              "<153164x40000 sparse matrix of type '<class 'numpy.float64'>'\n",
              "\twith 3175050 stored elements in Compressed Sparse Row format>"
            ]
          },
          "metadata": {
            "tags": []
          },
          "execution_count": 12
        }
      ]
    },
    {
      "metadata": {
        "id": "zdk1jAUL3bp6",
        "colab_type": "code",
        "colab": {
          "base_uri": "https://localhost:8080/",
          "height": 622
        },
        "outputId": "350abadb-69d5-4a99-8a6e-5aa69adaf896"
      },
      "cell_type": "code",
      "source": [
        "#import and instantiate the Logistic Regression model\n",
        "from sklearn.linear_model import LogisticRegression\n",
        "from sklearn.metrics import accuracy_score\n",
        "logreg = LogisticRegression(C=12.0)\n",
        "\n",
        "# create submission file\n",
        "submission_binary = pd.read_csv(\"data\\sample_submission.csv\")\n",
        "\n",
        "change_acc_bin = []\n",
        "for i,label in enumerate(target):\n",
        "    print('... Processing {}'.format(label))\n",
        "    print(label+\" is: \",base_accuracy[i])\n",
        "    y = train[label]\n",
        "    # train the model using X_dtm & y\n",
        "    logreg.fit(X_dtm, y)\n",
        "    # compute the training accuracy\n",
        "    y_pred_X = logreg.predict(X_dtm)\n",
        "    print('Training accuracy is         {}'.format(accuracy_score(y, y_pred_X)*100))\n",
        "    print(\"Increase from Base accuracy is {}\".format(accuracy_score(y, y_pred_X)*100 - base_accuracy[i]))\n",
        "    change_acc_bin.append(accuracy_score(y, y_pred_X)*100 - base_accuracy[i])\n",
        "    print(\"\")\n",
        "    print(50*'_')\n",
        "    # compute the predicted probabilities for X_test_dtm\n",
        "    test_y_prob = logreg.predict_proba(test_X_dtm)[:,1]\n",
        "    submission_binary[label] = test_y_prob"
      ],
      "execution_count": 13,
      "outputs": [
        {
          "output_type": "stream",
          "text": [
            "... Processing toxic\n",
            "toxic is:  90.41555169799024\n",
            "Training accuracy is         97.90500780216956\n",
            "Increase from Base accuracy is 7.489456104179325\n",
            "\n",
            "__________________________________________________\n",
            "... Processing severe_toxic\n",
            "severe_toxic is:  99.00044494300343\n",
            "Training accuracy is         99.41092053067287\n",
            "Increase from Base accuracy is 0.41047558766943837\n",
            "\n",
            "__________________________________________________\n",
            "... Processing obscene\n",
            "obscene is:  94.7051782592075\n",
            "Training accuracy is         98.98979137813262\n",
            "Increase from Base accuracy is 4.284613118925122\n",
            "\n",
            "__________________________________________________\n",
            "... Processing threat\n",
            "threat is:  99.70044682304429\n",
            "Training accuracy is         99.87341058212333\n",
            "Increase from Base accuracy is 0.17296375907903894\n",
            "\n",
            "__________________________________________________\n",
            "... Processing insult\n",
            "insult is:  95.06363938309592\n",
            "Training accuracy is         98.4633799374573\n",
            "Increase from Base accuracy is 3.3997405543613866\n",
            "\n",
            "__________________________________________________\n",
            "... Processing identity_hate\n",
            "identity_hate is:  99.11951419744189\n",
            "Training accuracy is         99.60268469834745\n",
            "Increase from Base accuracy is 0.48317050090555824\n",
            "\n",
            "__________________________________________________\n"
          ],
          "name": "stdout"
        }
      ]
    },
    {
      "metadata": {
        "id": "pY86FgLx36eM",
        "colab_type": "code",
        "colab": {
          "base_uri": "https://localhost:8080/",
          "height": 281
        },
        "outputId": "7e78824a-52b4-4bb4-8fc3-51290892a3ed"
      },
      "cell_type": "code",
      "source": [
        "plt.bar(target,change_acc_bin)\n",
        "plt.ylabel(\"% Increase in Accuracy from base line\")\n",
        "plt.xlabel(\"Labels\")\n",
        "plt.gcf().set_size_inches(10,4)\n",
        "plt.tick_params(labelsize=13)\n",
        "plt.show()"
      ],
      "execution_count": 14,
      "outputs": [
        {
          "output_type": "display_data",
          "data": {
            "image/png": "[encoded data removed]",
            "text/plain": [
              "<matplotlib.figure.Figure at 0x7fae2f6379e8>"
            ]
          },
          "metadata": {
            "tags": []
          }
        }
      ]
    },
    {
      "metadata": {
        "id": "xk-WUlqG4Yao",
        "colab_type": "code",
        "colab": {}
      },
      "cell_type": "code",
      "source": [
        ""
      ],
      "execution_count": 0,
      "outputs": []
    }
  ]
}