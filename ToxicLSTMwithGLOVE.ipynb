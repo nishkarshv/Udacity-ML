{
  "nbformat": 4,
  "nbformat_minor": 0,
  "metadata": {
    "colab": {
      "name": "ToxicLSTMwithGLOVE.ipynb",
      "version": "0.3.2",
      "views": {},
      "default_view": {},
      "provenance": [],
      "collapsed_sections": []
    },
    "kernelspec": {
      "name": "python3",
      "display_name": "Python 3"
    }
  },
  "cells": [
    {
      "metadata": {
        "id": "o5IgnnQkclDB",
        "colab_type": "code",
        "colab": {
          "autoexec": {
            "startup": false,
            "wait_interval": 0
          }
        }
      },
      "cell_type": "code",
      "source": [
        "!pip install -U -q PyDrive\n",
        "from pydrive.auth import GoogleAuth\n",
        "from pydrive.drive import GoogleDrive\n",
        "from google.colab import auth\n",
        "from oauth2client.client import GoogleCredentials\n",
        "\n",
        "# 1. Authenticate and create the PyDrive client.\n",
        "auth.authenticate_user()\n",
        "gauth = GoogleAuth()\n",
        "gauth.credentials = GoogleCredentials.get_application_default()\n",
        "drive = GoogleDrive(gauth)\n",
        "\n",
        "# 2. Load a file by ID and create local file.\n",
        "downloaded = drive.CreateFile({'id':'1os1T4eWQfmGNkCI8z4Fx3lJ39dWcsG4l'}) # replace fileid with Id of file you want to access\n",
        "downloaded.GetContentFile('data\\train.csv') # now you can use train.csv \n",
        "downloaded = drive.CreateFile({'id':'1fYwpjp6hsbvmvqagCCpa63Iqoil-Dgzq'}) # replace fileid with Id of file you want to access\n",
        "downloaded.GetContentFile('data\\test.csv') # now you can use train.csv \n",
        "\n",
        "downloaded = drive.CreateFile({'id':'1UhEqap5CLhzlZTGjaXlUFMIp3q0Ux7-Z'}) # replace fileid with Id of file you want to access\n",
        "downloaded.GetContentFile('data\\glove.6B.50d.txt') # now you can use glove.txt\n",
        "\n"
      ],
      "execution_count": 0,
      "outputs": []
    },
    {
      "metadata": {
        "id": "vrXdOc3Fcmcc",
        "colab_type": "code",
        "colab": {
          "autoexec": {
            "startup": false,
            "wait_interval": 0
          },
          "base_uri": "https://localhost:8080/",
          "height": 242
        },
        "outputId": "d2802f47-9ece-4675-f787-ed89a0f5a4c5",
        "executionInfo": {
          "status": "ok",
          "timestamp": 1527363804117,
          "user_tz": -330,
          "elapsed": 3485,
          "user": {
            "displayName": "Nishkarsh Vardhan",
            "photoUrl": "//lh3.googleusercontent.com/-uHL0v6hEGG4/AAAAAAAAAAI/AAAAAAAABUU/elEvQB2L4Qk/s50-c-k-no/photo.jpg",
            "userId": "101588741636809151500"
          }
        }
      },
      "cell_type": "code",
      "source": [
        "import pandas as pd, numpy as np\n",
        "from sklearn.linear_model import LogisticRegression\n",
        "from sklearn.feature_extraction.text import CountVectorizer, TfidfVectorizer\n",
        "from __future__ import print_function\n",
        "import seaborn as sns\n",
        "from matplotlib import pyplot as plt\n",
        "from sklearn.linear_model import LinearRegression\n",
        "from sklearn.model_selection import train_test_split\n",
        "import re\n",
        "import sys, os, csv, codecs\n",
        "from IPython.core.display import display, HTML\n",
        "from keras.preprocessing.text import Tokenizer\n",
        "from keras.preprocessing.sequence import pad_sequences\n",
        "from keras.layers import Dense, Input, LSTM, Embedding, Dropout, Activation\n",
        "from keras.layers import Bidirectional, GlobalMaxPool1D\n",
        "from keras.models import Model\n",
        "from keras import initializers, regularizers, constraints, optimizers, layers\n",
        "from keras.models import Sequential\n",
        "\n",
        "\n",
        "toxictrain = pd.read_csv('data\\train.csv')\n",
        "toxictest = pd.read_csv('data\\test.csv')\n",
        "EMBEDDING_PATH = \"data\\glove.6B.50d.txt\"\n",
        "\n",
        "toxictrain.head()\n",
        "train_toxic = toxictrain.drop(['id', 'comment_text'],axis=1)\n",
        "count = []\n",
        "category = list(train_toxic.columns.values)\n",
        "for i in category:\n",
        "  count.append((i,train_toxic[i].sum()))\n",
        "train_stats = pd.DataFrame(count,columns=['category','number_of_comments'])\n",
        "train_stats"
      ],
      "execution_count": 2,
      "outputs": [
        {
          "output_type": "stream",
          "text": [
            "Using TensorFlow backend.\n"
          ],
          "name": "stderr"
        },
        {
          "output_type": "execute_result",
          "data": {
            "text/html": [
              "<div>\n",
              "<style scoped>\n",
              "    .dataframe tbody tr th:only-of-type {\n",
              "        vertical-align: middle;\n",
              "    }\n",
              "\n",
              "    .dataframe tbody tr th {\n",
              "        vertical-align: top;\n",
              "    }\n",
              "\n",
              "    .dataframe thead th {\n",
              "        text-align: right;\n",
              "    }\n",
              "</style>\n",
              "<table border=\"1\" class=\"dataframe\">\n",
              "  <thead>\n",
              "    <tr style=\"text-align: right;\">\n",
              "      <th></th>\n",
              "      <th>category</th>\n",
              "      <th>number_of_comments</th>\n",
              "    </tr>\n",
              "  </thead>\n",
              "  <tbody>\n",
              "    <tr>\n",
              "      <th>0</th>\n",
              "      <td>toxic</td>\n",
              "      <td>15294</td>\n",
              "    </tr>\n",
              "    <tr>\n",
              "      <th>1</th>\n",
              "      <td>severe_toxic</td>\n",
              "      <td>1595</td>\n",
              "    </tr>\n",
              "    <tr>\n",
              "      <th>2</th>\n",
              "      <td>obscene</td>\n",
              "      <td>8449</td>\n",
              "    </tr>\n",
              "    <tr>\n",
              "      <th>3</th>\n",
              "      <td>threat</td>\n",
              "      <td>478</td>\n",
              "    </tr>\n",
              "    <tr>\n",
              "      <th>4</th>\n",
              "      <td>insult</td>\n",
              "      <td>7877</td>\n",
              "    </tr>\n",
              "    <tr>\n",
              "      <th>5</th>\n",
              "      <td>identity_hate</td>\n",
              "      <td>1405</td>\n",
              "    </tr>\n",
              "  </tbody>\n",
              "</table>\n",
              "</div>"
            ],
            "text/plain": [
              "        category  number_of_comments\n",
              "0          toxic               15294\n",
              "1   severe_toxic                1595\n",
              "2        obscene                8449\n",
              "3         threat                 478\n",
              "4         insult                7877\n",
              "5  identity_hate                1405"
            ]
          },
          "metadata": {
            "tags": []
          },
          "execution_count": 2
        }
      ]
    },
    {
      "metadata": {
        "id": "UVDeVjvXctUX",
        "colab_type": "code",
        "colab": {
          "autoexec": {
            "startup": false,
            "wait_interval": 0
          },
          "base_uri": "https://localhost:8080/",
          "height": 301
        },
        "outputId": "8246c74b-0e4c-4416-d936-08b74af4140c",
        "executionInfo": {
          "status": "ok",
          "timestamp": 1527363805241,
          "user_tz": -330,
          "elapsed": 1050,
          "user": {
            "displayName": "Nishkarsh Vardhan",
            "photoUrl": "//lh3.googleusercontent.com/-uHL0v6hEGG4/AAAAAAAAAAI/AAAAAAAABUU/elEvQB2L4Qk/s50-c-k-no/photo.jpg",
            "userId": "101588741636809151500"
          }
        }
      },
      "cell_type": "code",
      "source": [
        "print(\"Segragate data categorywise\")\n",
        "target = ['toxic', 'severe_toxic', 'obscene', 'threat', 'insult', 'identity_hate']\n",
        "toxictrain['none'] = 1-toxictrain[target].max(axis=1)\n",
        "toxictrain.describe()"
      ],
      "execution_count": 3,
      "outputs": [
        {
          "output_type": "stream",
          "text": [
            "Segragate data categorywise\n"
          ],
          "name": "stdout"
        },
        {
          "output_type": "execute_result",
          "data": {
            "text/html": [
              "<div>\n",
              "<style scoped>\n",
              "    .dataframe tbody tr th:only-of-type {\n",
              "        vertical-align: middle;\n",
              "    }\n",
              "\n",
              "    .dataframe tbody tr th {\n",
              "        vertical-align: top;\n",
              "    }\n",
              "\n",
              "    .dataframe thead th {\n",
              "        text-align: right;\n",
              "    }\n",
              "</style>\n",
              "<table border=\"1\" class=\"dataframe\">\n",
              "  <thead>\n",
              "    <tr style=\"text-align: right;\">\n",
              "      <th></th>\n",
              "      <th>toxic</th>\n",
              "      <th>severe_toxic</th>\n",
              "      <th>obscene</th>\n",
              "      <th>threat</th>\n",
              "      <th>insult</th>\n",
              "      <th>identity_hate</th>\n",
              "      <th>none</th>\n",
              "    </tr>\n",
              "  </thead>\n",
              "  <tbody>\n",
              "    <tr>\n",
              "      <th>count</th>\n",
              "      <td>159571.000000</td>\n",
              "      <td>159571.000000</td>\n",
              "      <td>159571.000000</td>\n",
              "      <td>159571.000000</td>\n",
              "      <td>159571.000000</td>\n",
              "      <td>159571.000000</td>\n",
              "      <td>159571.000000</td>\n",
              "    </tr>\n",
              "    <tr>\n",
              "      <th>mean</th>\n",
              "      <td>0.095844</td>\n",
              "      <td>0.009996</td>\n",
              "      <td>0.052948</td>\n",
              "      <td>0.002996</td>\n",
              "      <td>0.049364</td>\n",
              "      <td>0.008805</td>\n",
              "      <td>0.898321</td>\n",
              "    </tr>\n",
              "    <tr>\n",
              "      <th>std</th>\n",
              "      <td>0.294379</td>\n",
              "      <td>0.099477</td>\n",
              "      <td>0.223931</td>\n",
              "      <td>0.054650</td>\n",
              "      <td>0.216627</td>\n",
              "      <td>0.093420</td>\n",
              "      <td>0.302226</td>\n",
              "    </tr>\n",
              "    <tr>\n",
              "      <th>min</th>\n",
              "      <td>0.000000</td>\n",
              "      <td>0.000000</td>\n",
              "      <td>0.000000</td>\n",
              "      <td>0.000000</td>\n",
              "      <td>0.000000</td>\n",
              "      <td>0.000000</td>\n",
              "      <td>0.000000</td>\n",
              "    </tr>\n",
              "    <tr>\n",
              "      <th>25%</th>\n",
              "      <td>0.000000</td>\n",
              "      <td>0.000000</td>\n",
              "      <td>0.000000</td>\n",
              "      <td>0.000000</td>\n",
              "      <td>0.000000</td>\n",
              "      <td>0.000000</td>\n",
              "      <td>1.000000</td>\n",
              "    </tr>\n",
              "    <tr>\n",
              "      <th>50%</th>\n",
              "      <td>0.000000</td>\n",
              "      <td>0.000000</td>\n",
              "      <td>0.000000</td>\n",
              "      <td>0.000000</td>\n",
              "      <td>0.000000</td>\n",
              "      <td>0.000000</td>\n",
              "      <td>1.000000</td>\n",
              "    </tr>\n",
              "    <tr>\n",
              "      <th>75%</th>\n",
              "      <td>0.000000</td>\n",
              "      <td>0.000000</td>\n",
              "      <td>0.000000</td>\n",
              "      <td>0.000000</td>\n",
              "      <td>0.000000</td>\n",
              "      <td>0.000000</td>\n",
              "      <td>1.000000</td>\n",
              "    </tr>\n",
              "    <tr>\n",
              "      <th>max</th>\n",
              "      <td>1.000000</td>\n",
              "      <td>1.000000</td>\n",
              "      <td>1.000000</td>\n",
              "      <td>1.000000</td>\n",
              "      <td>1.000000</td>\n",
              "      <td>1.000000</td>\n",
              "      <td>1.000000</td>\n",
              "    </tr>\n",
              "  </tbody>\n",
              "</table>\n",
              "</div>"
            ],
            "text/plain": [
              "               toxic   severe_toxic        obscene         threat  \\\n",
              "count  159571.000000  159571.000000  159571.000000  159571.000000   \n",
              "mean        0.095844       0.009996       0.052948       0.002996   \n",
              "std         0.294379       0.099477       0.223931       0.054650   \n",
              "min         0.000000       0.000000       0.000000       0.000000   \n",
              "25%         0.000000       0.000000       0.000000       0.000000   \n",
              "50%         0.000000       0.000000       0.000000       0.000000   \n",
              "75%         0.000000       0.000000       0.000000       0.000000   \n",
              "max         1.000000       1.000000       1.000000       1.000000   \n",
              "\n",
              "              insult  identity_hate           none  \n",
              "count  159571.000000  159571.000000  159571.000000  \n",
              "mean        0.049364       0.008805       0.898321  \n",
              "std         0.216627       0.093420       0.302226  \n",
              "min         0.000000       0.000000       0.000000  \n",
              "25%         0.000000       0.000000       1.000000  \n",
              "50%         0.000000       0.000000       1.000000  \n",
              "75%         0.000000       0.000000       1.000000  \n",
              "max         1.000000       1.000000       1.000000  "
            ]
          },
          "metadata": {
            "tags": []
          },
          "execution_count": 3
        }
      ]
    },
    {
      "metadata": {
        "id": "iC4AMHi2eCQ3",
        "colab_type": "code",
        "colab": {
          "autoexec": {
            "startup": false,
            "wait_interval": 0
          },
          "base_uri": "https://localhost:8080/",
          "height": 431
        },
        "outputId": "f62e0a63-6ab6-4809-d8cb-fc2fa7a1e74d",
        "executionInfo": {
          "status": "ok",
          "timestamp": 1527363806629,
          "user_tz": -330,
          "elapsed": 813,
          "user": {
            "displayName": "Nishkarsh Vardhan",
            "photoUrl": "//lh3.googleusercontent.com/-uHL0v6hEGG4/AAAAAAAAAAI/AAAAAAAABUU/elEvQB2L4Qk/s50-c-k-no/photo.jpg",
            "userId": "101588741636809151500"
          }
        }
      },
      "cell_type": "code",
      "source": [
        "#number of comments category wise\n",
        "print(\"Plotting category-wise graph\")\n",
        "train_stats.plot(x='category', y='number_of_comments', kind='bar', legend=False, grid=True, figsize=(10, 5))\n",
        "plt.title(\"Number of comments per category\")\n",
        "plt.ylabel('Number of Occurrences', fontsize=12)\n",
        "plt.xlabel('category', fontsize=12)"
      ],
      "execution_count": 4,
      "outputs": [
        {
          "output_type": "stream",
          "text": [
            "Plotting category-wise graph\n"
          ],
          "name": "stdout"
        },
        {
          "output_type": "execute_result",
          "data": {
            "text/plain": [
              "Text(0.5,0,'category')"
            ]
          },
          "metadata": {
            "tags": []
          },
          "execution_count": 4
        },
        {
          "output_type": "display_data",
          "data": {
            "image/png": "[encoded data removed]",
            "text/plain": [
              "<matplotlib.figure.Figure at 0x7f6e893b8ac8>"
            ]
          },
          "metadata": {
            "tags": []
          }
        }
      ]
    },
    {
      "metadata": {
        "id": "wpYiNHHveG2E",
        "colab_type": "code",
        "colab": {
          "autoexec": {
            "startup": false,
            "wait_interval": 0
          },
          "base_uri": "https://localhost:8080/",
          "height": 306
        },
        "outputId": "6e1d267a-cb30-482f-ba1e-8c88fa4e7376",
        "executionInfo": {
          "status": "ok",
          "timestamp": 1527363807882,
          "user_tz": -330,
          "elapsed": 729,
          "user": {
            "displayName": "Nishkarsh Vardhan",
            "photoUrl": "//lh3.googleusercontent.com/-uHL0v6hEGG4/AAAAAAAAAAI/AAAAAAAABUU/elEvQB2L4Qk/s50-c-k-no/photo.jpg",
            "userId": "101588741636809151500"
          }
        }
      },
      "cell_type": "code",
      "source": [
        "print(\"Checking data\")\n",
        "y_train = toxictrain[target].values\n",
        "x_train = toxictrain[\"comment_text\"]\n",
        "x_test  = toxictest[\"comment_text\"]\n",
        "\n",
        "# Sample from dataset\n",
        "for j in range(5):\n",
        "    print('Comment #{}:  {}'.format(j + 1, x_train[j]))\n",
        "    print('Label #{}:    {}'.format(j + 1, y_train[j]))"
      ],
      "execution_count": 5,
      "outputs": [
        {
          "output_type": "stream",
          "text": [
            "Checking data\n",
            "Comment #1:  Explanation\n",
            "Why the edits made under my username Hardcore Metallica Fan were reverted? They weren't vandalisms, just closure on some GAs after I voted at New York Dolls FAC. And please don't remove the template from the talk page since I'm retired now.89.205.38.27\n",
            "Label #1:    [0 0 0 0 0 0]\n",
            "Comment #2:  D'aww! He matches this background colour I'm seemingly stuck with. Thanks.  (talk) 21:51, January 11, 2016 (UTC)\n",
            "Label #2:    [0 0 0 0 0 0]\n",
            "Comment #3:  Hey man, I'm really not trying to edit war. It's just that this guy is constantly removing relevant information and talking to me through edits instead of my talk page. He seems to care more about the formatting than the actual info.\n",
            "Label #3:    [0 0 0 0 0 0]\n",
            "Comment #4:  \"\n",
            "More\n",
            "I can't make any real suggestions on improvement - I wondered if the section statistics should be later on, or a subsection of \"\"types of accidents\"\"  -I think the references may need tidying so that they are all in the exact same format ie date format etc. I can do that later on, if no-one else does first - if you have any preferences for formatting style on references or want to do it yourself please let me know.\n",
            "\n",
            "There appears to be a backlog on articles for review so I guess there may be a delay until a reviewer turns up. It's listed in the relevant form eg Wikipedia:Good_article_nominations#Transport  \"\n",
            "Label #4:    [0 0 0 0 0 0]\n",
            "Comment #5:  You, sir, are my hero. Any chance you remember what page that's on?\n",
            "Label #5:    [0 0 0 0 0 0]\n"
          ],
          "name": "stdout"
        }
      ]
    },
    {
      "metadata": {
        "id": "jqrkNXqh6y6B",
        "colab_type": "code",
        "colab": {
          "autoexec": {
            "startup": false,
            "wait_interval": 0
          }
        }
      },
      "cell_type": "code",
      "source": [
        ""
      ],
      "execution_count": 0,
      "outputs": []
    },
    {
      "metadata": {
        "id": "MKJkwToyeke3",
        "colab_type": "code",
        "colab": {
          "autoexec": {
            "startup": false,
            "wait_interval": 0
          },
          "base_uri": "https://localhost:8080/",
          "height": 134
        },
        "outputId": "1a5b876d-5726-4d21-81f1-d3bb3f677d1a",
        "executionInfo": {
          "status": "ok",
          "timestamp": 1527363818632,
          "user_tz": -330,
          "elapsed": 8881,
          "user": {
            "displayName": "Nishkarsh Vardhan",
            "photoUrl": "//lh3.googleusercontent.com/-uHL0v6hEGG4/AAAAAAAAAAI/AAAAAAAABUU/elEvQB2L4Qk/s50-c-k-no/photo.jpg",
            "userId": "101588741636809151500"
          }
        }
      },
      "cell_type": "code",
      "source": [
        "print(\"Sorting data on word basis\")\n",
        "#Train data\n",
        "!pip install -U -q tqdm\n",
        "# Explore vocabulary\n",
        "print(\"Defining vocabulary\")\n",
        "import collections\n",
        "from tqdm import tqdm\n",
        "\n",
        "# Create a counter object for each dataset\n",
        "word_counter = collections.Counter([word for sentence in tqdm(x_train, total=len(x_train)) \\\n",
        "                                                              for word in sentence.split()])\n",
        "\n",
        "print('{} words.'.format(len([word for sentence in x_train for word in sentence.split()])))\n",
        "print('{} unique words.'.format(len(word_counter)))\n",
        "print('10 Most common words in the dataset:')\n",
        "print('\"' + '\" \"'.join(list(zip(*word_counter.most_common(10)))[0]) + '\"')"
      ],
      "execution_count": 6,
      "outputs": [
        {
          "output_type": "stream",
          "text": [
            "Sorting data on word basis\n",
            "Defining vocabulary\n"
          ],
          "name": "stdout"
        },
        {
          "output_type": "stream",
          "text": [
            "100%|██████████| 159571/159571 [00:01<00:00, 85555.74it/s]\n"
          ],
          "name": "stderr"
        },
        {
          "output_type": "stream",
          "text": [
            "10734904 words.\n",
            "532299 unique words.\n",
            "10 Most common words in the dataset:\n",
            "\"the\" \"to\" \"of\" \"and\" \"a\" \"I\" \"is\" \"you\" \"that\" \"in\"\n"
          ],
          "name": "stdout"
        }
      ]
    },
    {
      "metadata": {
        "id": "UdSx4hlATxyx",
        "colab_type": "code",
        "colab": {
          "autoexec": {
            "startup": false,
            "wait_interval": 0
          },
          "base_uri": "https://localhost:8080/",
          "height": 151
        },
        "outputId": "2677f5f1-56ad-4628-8eab-774df9a5b741",
        "executionInfo": {
          "status": "ok",
          "timestamp": 1527363851839,
          "user_tz": -330,
          "elapsed": 33103,
          "user": {
            "displayName": "Nishkarsh Vardhan",
            "photoUrl": "//lh3.googleusercontent.com/-uHL0v6hEGG4/AAAAAAAAAAI/AAAAAAAABUU/elEvQB2L4Qk/s50-c-k-no/photo.jpg",
            "userId": "101588741636809151500"
          }
        }
      },
      "cell_type": "code",
      "source": [
        "#Preprocessing of data\n",
        "# Tokenize and Pad\n",
        "print(\"Preprocess the data and tokenize it\")\n",
        "print(\"Create tokenizer\")\n",
        "# Create tokenizer\n",
        "tokenizer = Tokenizer(num_words=None,\n",
        "                      filters='!\"#$%&()*+,-./:;<=>?@[\\\\]^_`{|}~\\t\\n',\n",
        "                      lower=True,\n",
        "                      split=\" \",\n",
        "                      char_level=False)\n",
        "\n",
        "print(\"Fit and run the tokenizer\")\n",
        "# Fit and run tokenizer\n",
        "tokenizer.fit_on_texts(list(x_train))\n",
        "#Transforms each text in texts in a sequence of integers\n",
        "tokenized_train = tokenizer.texts_to_sequences(x_train)\n",
        "tokenized_test = tokenizer.texts_to_sequences(x_test)\n",
        "#word indexing it\n",
        "word_index = tokenizer.word_index\n",
        "\n",
        "# Extract variables\n",
        "vocabsize = len(word_index)\n",
        "print('Vocabulary size: {}'.format(vocabsize))\n",
        "\n",
        "maxlen = max(len(seq) for seq in tokenized_train)\n",
        "print(\"Longest comment size will be: {}\".format(maxlen))\n",
        "\n",
        "average = np.mean([len(seq) for seq in tokenized_train])\n",
        "print(\"Average comment size: {}\".format(average))\n",
        "\n",
        "stdeviation = np.std([len(seq) for seq in tokenized_train])\n",
        "print(\"Standard deviation of comment size: {}\".format(stdeviation))\n",
        "\n",
        "max_length = int(average + stdeviation * 3)\n",
        "print('Maximum comment size: {}'.format(max_length))\n",
        "\n"
      ],
      "execution_count": 7,
      "outputs": [
        {
          "output_type": "stream",
          "text": [
            "Preprocess the data and tokenize it\n",
            "Create tokenizer\n",
            "Fit and run the tokenizer\n",
            "Vocabulary size: 210337\n",
            "Longest comment size will be: 1403\n",
            "Average comment size: 68.22156908210138\n",
            "Standard deviation of comment size: 101.07344657013672\n",
            "Maximum comment size: 371\n"
          ],
          "name": "stdout"
        }
      ]
    },
    {
      "metadata": {
        "id": "-YdjI62xVug8",
        "colab_type": "code",
        "colab": {
          "autoexec": {
            "startup": false,
            "wait_interval": 0
          },
          "base_uri": "https://localhost:8080/",
          "height": 406
        },
        "outputId": "2ee7d10b-a6ae-4b6f-a3f2-efec4b8fc722",
        "executionInfo": {
          "status": "ok",
          "timestamp": 1527363856522,
          "user_tz": -330,
          "elapsed": 4594,
          "user": {
            "displayName": "Nishkarsh Vardhan",
            "photoUrl": "//lh3.googleusercontent.com/-uHL0v6hEGG4/AAAAAAAAAAI/AAAAAAAABUU/elEvQB2L4Qk/s50-c-k-no/photo.jpg",
            "userId": "101588741636809151500"
          }
        }
      },
      "cell_type": "code",
      "source": [
        "# Pad sequences\n",
        "print(\"Padding the sequences\")\n",
        "processed_X_train = pad_sequences(tokenized_train, maxlen=max_length, padding='post', truncating='post')\n",
        "processed_X_test = pad_sequences(tokenized_test, maxlen=max_length, padding='post', truncating='post')\n",
        "\n",
        "print(\"Sample Tokenized data:-\")\n",
        "# Sample tokenization\n",
        "for i, (inp, out) in enumerate(zip(x_train[:5], tokenized_train[:5])):\n",
        "    print('Sequence {}'.format(i + 1))\n",
        "    print('  Input:  {}'.format(inp))\n",
        "    print('  Output: {}'.format(out))"
      ],
      "execution_count": 8,
      "outputs": [
        {
          "output_type": "stream",
          "text": [
            "Padding the sequences\n",
            "Sample Tokenized data:-\n",
            "Sequence 1\n",
            "  Input:  Explanation\n",
            "Why the edits made under my username Hardcore Metallica Fan were reverted? They weren't vandalisms, just closure on some GAs after I voted at New York Dolls FAC. And please don't remove the template from the talk page since I'm retired now.89.205.38.27\n",
            "  Output: [688, 75, 1, 126, 130, 177, 29, 672, 4511, 12052, 1116, 86, 331, 51, 2278, 11448, 50, 6864, 15, 60, 2756, 148, 7, 2937, 34, 117, 1221, 15190, 2825, 4, 45, 59, 244, 1, 365, 31, 1, 38, 27, 143, 73, 3462, 89, 3085, 4583, 2273, 985]\n",
            "Sequence 2\n",
            "  Input:  D'aww! He matches this background colour I'm seemingly stuck with. Thanks.  (talk) 21:51, January 11, 2016 (UTC)\n",
            "  Output: [96145, 52, 2635, 13, 555, 3809, 73, 4556, 2706, 21, 94, 38, 803, 2679, 992, 589, 8377, 182]\n",
            "Sequence 3\n",
            "  Input:  Hey man, I'm really not trying to edit war. It's just that this guy is constantly removing relevant information and talking to me through edits instead of my talk page. He seems to care more about the formatting than the actual info.\n",
            "  Output: [412, 437, 73, 134, 14, 249, 2, 71, 314, 78, 50, 9, 13, 626, 8, 2284, 492, 502, 102, 4, 611, 2, 35, 325, 126, 363, 3, 29, 38, 27, 52, 208, 2, 434, 57, 36, 1, 2394, 93, 1, 737, 468]\n",
            "Sequence 4\n",
            "  Input:  \"\n",
            "More\n",
            "I can't make any real suggestions on improvement - I wondered if the section statistics should be later on, or a subsection of \"\"types of accidents\"\"  -I think the references may need tidying so that they are all in the exact same format ie date format etc. I can do that later on, if no-one else does first - if you have any preferences for formatting style on references or want to do it yourself please let me know.\n",
            "\n",
            "There appears to be a backlog on articles for review so I guess there may be a delay until a reviewer turns up. It's listed in the relevant form eg Wikipedia:Good_article_nominations#Transport  \"\n",
            "  Output: [57, 7, 228, 97, 54, 328, 1436, 15, 2133, 7, 6024, 22, 1, 123, 2502, 56, 16, 513, 15, 25, 5, 4236, 3, 1327, 3, 9762, 7, 67, 1, 277, 85, 122, 13503, 37, 9, 51, 19, 42, 10, 1, 1460, 138, 1257, 2153, 426, 1257, 319, 7, 40, 33, 9, 513, 15, 22, 46, 48, 310, 103, 113, 22, 6, 18, 54, 4442, 12, 2394, 275, 15, 277, 25, 105, 2, 33, 11, 206, 45, 267, 35, 69, 41, 542, 2, 16, 5, 5956, 15, 80, 12, 385, 37, 7, 645, 41, 85, 16, 5, 2024, 386, 5, 3057, 3245, 76, 78, 424, 10, 1, 502, 640, 3597, 28, 98, 23, 3542, 4901]\n",
            "Sequence 5\n",
            "  Input:  You, sir, are my hero. Any chance you remember what page that's on?\n",
            "  Output: [6, 1677, 19, 29, 3516, 54, 1069, 6, 579, 39, 27, 205, 15]\n"
          ],
          "name": "stdout"
        }
      ]
    },
    {
      "metadata": {
        "id": "SxSM4WWKlhbD",
        "colab_type": "code",
        "colab": {
          "autoexec": {
            "startup": false,
            "wait_interval": 0
          },
          "base_uri": "https://localhost:8080/",
          "height": 50
        },
        "outputId": "2e327a9c-b414-4707-d71a-63ee88b13d4c",
        "executionInfo": {
          "status": "ok",
          "timestamp": 1527363864547,
          "user_tz": -330,
          "elapsed": 7970,
          "user": {
            "displayName": "Nishkarsh Vardhan",
            "photoUrl": "//lh3.googleusercontent.com/-uHL0v6hEGG4/AAAAAAAAAAI/AAAAAAAABUU/elEvQB2L4Qk/s50-c-k-no/photo.jpg",
            "userId": "101588741636809151500"
          }
        }
      },
      "cell_type": "code",
      "source": [
        "#embedding\n",
        "print(\"Embedding the data\")\n",
        "embeddingindex = dict()\n",
        "f = open(EMBEDDING_PATH)\n",
        "for l in f:\n",
        "    values = l.split()\n",
        "    word = values[0]\n",
        "    coeff = np.asarray(values[1:], dtype='float32')\n",
        "    embeddingindex[word] = coeff\n",
        "f.close()\n",
        "print('Loaded %s word vectors.' % len(embeddingindex))"
      ],
      "execution_count": 9,
      "outputs": [
        {
          "output_type": "stream",
          "text": [
            "Embedding the data\n",
            "Loaded 400000 word vectors.\n"
          ],
          "name": "stdout"
        }
      ]
    },
    {
      "metadata": {
        "id": "wKUlQt-bl_Yo",
        "colab_type": "code",
        "colab": {
          "autoexec": {
            "startup": false,
            "wait_interval": 0
          }
        }
      },
      "cell_type": "code",
      "source": [
        "#token = Tokenizer()\n",
        "tokenizer.fit_on_texts(toxictrain['comment_text'])\n",
        "#vocab_size = len(tokenizer.word_index) + 1\n",
        "\n",
        "commontext_token = tokenizer.texts_to_sequences(toxictrain['comment_text'])\n",
        "#max_length = 371\n",
        "padded_seq = pad_sequences(commontext_token, maxlen=max_length, padding='post')\n",
        "\n",
        "# Test Data\n",
        "test_encoded_docs = tokenizer.texts_to_sequences(toxictest['comment_text'])\n",
        "test_padded_docs = pad_sequences(test_encoded_docs, maxlen=max_length, padding='post')\n",
        "# create a weight matrix for words in training\n",
        "embeddingmatrix = np.zeros((vocabsize+1, 50))\n",
        "for word, i in tokenizer.word_index.items():\n",
        "    embeddingvector = embeddingindex.get(word)\n",
        "    if embeddingvector is not None:\n",
        "        embeddingmatrix[i] = embeddingvector"
      ],
      "execution_count": 0,
      "outputs": []
    },
    {
      "metadata": {
        "id": "jT__sO5-mQwf",
        "colab_type": "code",
        "colab": {
          "autoexec": {
            "startup": false,
            "wait_interval": 0
          },
          "base_uri": "https://localhost:8080/",
          "height": 34
        },
        "outputId": "8fc03b81-8bd9-4d72-c80e-8e9e6f8d4c13",
        "executionInfo": {
          "status": "ok",
          "timestamp": 1527363903659,
          "user_tz": -330,
          "elapsed": 705,
          "user": {
            "displayName": "Nishkarsh Vardhan",
            "photoUrl": "//lh3.googleusercontent.com/-uHL0v6hEGG4/AAAAAAAAAAI/AAAAAAAABUU/elEvQB2L4Qk/s50-c-k-no/photo.jpg",
            "userId": "101588741636809151500"
          }
        }
      },
      "cell_type": "code",
      "source": [
        "print(vocabsize)"
      ],
      "execution_count": 11,
      "outputs": [
        {
          "output_type": "stream",
          "text": [
            "210337\n"
          ],
          "name": "stdout"
        }
      ]
    },
    {
      "metadata": {
        "id": "2sWWmwiZnGLE",
        "colab_type": "code",
        "colab": {
          "autoexec": {
            "startup": false,
            "wait_interval": 0
          },
          "base_uri": "https://localhost:8080/",
          "height": 50
        },
        "outputId": "e6f8d0dc-f1a5-49d3-bc5d-b067ad7ecbfc",
        "executionInfo": {
          "status": "ok",
          "timestamp": 1527363906920,
          "user_tz": -330,
          "elapsed": 1790,
          "user": {
            "displayName": "Nishkarsh Vardhan",
            "photoUrl": "//lh3.googleusercontent.com/-uHL0v6hEGG4/AAAAAAAAAAI/AAAAAAAABUU/elEvQB2L4Qk/s50-c-k-no/photo.jpg",
            "userId": "101588741636809151500"
          }
        }
      },
      "cell_type": "code",
      "source": [
        "print(\"Fit the Deep Learning Model - LSTM(Long Short Term Memory) \")\n",
        "\n",
        "model = Sequential()\n",
        "print(\"Emedding layer - layer will output word vectors for each one of the words in senctence\")\n",
        "model.add(Embedding(vocabsize+1, \n",
        "                    50, weights=[embeddingmatrix], \n",
        "                    input_length=371, \n",
        "                    trainable=False))\n",
        "\n",
        "model.add(Bidirectional(LSTM(units=50, return_sequences=False, dropout=0.1, recurrent_dropout=0.1)))\n",
        "model.add(Dense(50, activation=\"relu\"))\n",
        "model.add(Dropout(0.1))\n",
        "model.add(Dense(6, activation='sigmoid'))\n",
        "\n",
        "optimizer = optimizers.Adam(lr=0.001)\n",
        "model.compile(loss='binary_crossentropy',\n",
        "            optimizer=optimizer,\n",
        "            metrics=['accuracy'])"
      ],
      "execution_count": 12,
      "outputs": [
        {
          "output_type": "stream",
          "text": [
            "Fit the Deep Learning Model - LSTM(Long Short Term Memory) \n",
            "Emedding layer - layer will output word vectors for each one of the words in senctence\n"
          ],
          "name": "stdout"
        }
      ]
    },
    {
      "metadata": {
        "id": "wVbhYPi6nY8S",
        "colab_type": "code",
        "colab": {
          "autoexec": {
            "startup": false,
            "wait_interval": 0
          },
          "base_uri": "https://localhost:8080/",
          "height": 474
        },
        "outputId": "57110106-6559-43de-8427-1a510965e155",
        "executionInfo": {
          "status": "ok",
          "timestamp": 1527368642810,
          "user_tz": -330,
          "elapsed": 4735848,
          "user": {
            "displayName": "Nishkarsh Vardhan",
            "photoUrl": "//lh3.googleusercontent.com/-uHL0v6hEGG4/AAAAAAAAAAI/AAAAAAAABUU/elEvQB2L4Qk/s50-c-k-no/photo.jpg",
            "userId": "101588741636809151500"
          }
        }
      },
      "cell_type": "code",
      "source": [
        "model.summary()\n",
        "labels = toxictrain[target].values\n",
        "print(toxictrain[\"comment_text\"][5])\n",
        "print(labels[5])\n",
        "model.fit(padded_seq, labels, epochs=2, batch_size=32)"
      ],
      "execution_count": 13,
      "outputs": [
        {
          "output_type": "stream",
          "text": [
            "_________________________________________________________________\n",
            "Layer (type)                 Output Shape              Param #   \n",
            "=================================================================\n",
            "embedding_1 (Embedding)      (None, 371, 50)           10516900  \n",
            "_________________________________________________________________\n",
            "bidirectional_1 (Bidirection (None, 100)               40400     \n",
            "_________________________________________________________________\n",
            "dense_1 (Dense)              (None, 50)                5050      \n",
            "_________________________________________________________________\n",
            "dropout_1 (Dropout)          (None, 50)                0         \n",
            "_________________________________________________________________\n",
            "dense_2 (Dense)              (None, 6)                 306       \n",
            "=================================================================\n",
            "Total params: 10,562,656\n",
            "Trainable params: 45,756\n",
            "Non-trainable params: 10,516,900\n",
            "_________________________________________________________________\n",
            "\"\n",
            "\n",
            "Congratulations from me as well, use the tools well.  · talk \"\n",
            "[0 0 0 0 0 0]\n",
            "Epoch 1/2\n",
            "  2624/159571 [..............................] - ETA: 39:52 - loss: 0.2939 - acc: 0.9090"
          ],
          "name": "stdout"
        },
        {
          "output_type": "stream",
          "text": [
            "159571/159571 [==============================] - 2367s 15ms/step - loss: 0.0744 - acc: 0.9747\n"
          ],
          "name": "stdout"
        },
        {
          "output_type": "stream",
          "text": [
            "Epoch 2/2\n",
            "159552/159571 [============================>.] - ETA: 0s - loss: 0.0576 - acc: 0.9796"
          ],
          "name": "stdout"
        },
        {
          "output_type": "stream",
          "text": [
            "\b\b\b\b\b\b\b\b\b\b\b\b\b\b\b\b\b\b\b\b\b\b\b\b\b\b\b\b\b\b\b\b\b\b\b\b\b\b\b\b\b\b\b\b\b\b\b\b\b\b\b\b\b\b\b\b\b\b\b\b\b\b\b\b\b\b\b\b\b\b\b\b\b\b\b\b\b\b\b\b\b\b\b\b\b\r159571/159571 [==============================] - 2365s 15ms/step - loss: 0.0576 - acc: 0.9796\n"
          ],
          "name": "stdout"
        },
        {
          "output_type": "execute_result",
          "data": {
            "text/plain": [
              "<keras.callbacks.History at 0x7f6e8594c550>"
            ]
          },
          "metadata": {
            "tags": []
          },
          "execution_count": 13
        }
      ]
    },
    {
      "metadata": {
        "id": "bXwhEOlkng5W",
        "colab_type": "code",
        "colab": {
          "autoexec": {
            "startup": false,
            "wait_interval": 0
          },
          "base_uri": "https://localhost:8080/",
          "height": 706
        },
        "outputId": "f86b0f5f-1321-4b41-9cf0-f7aa1a2f7e98",
        "executionInfo": {
          "status": "ok",
          "timestamp": 1527369142276,
          "user_tz": -330,
          "elapsed": 499259,
          "user": {
            "displayName": "Nishkarsh Vardhan",
            "photoUrl": "//lh3.googleusercontent.com/-uHL0v6hEGG4/AAAAAAAAAAI/AAAAAAAABUU/elEvQB2L4Qk/s50-c-k-no/photo.jpg",
            "userId": "101588741636809151500"
          }
        }
      },
      "cell_type": "code",
      "source": [
        "print(\"Predicting the model\")\n",
        "predictions = model.predict(padded_seq, verbose=0)\n",
        "\n",
        "\n",
        "def  toxiclevel(string):\n",
        "   \n",
        "    # Return toxicity probability based on input string.\n",
        "    # Lets Process string\n",
        "    str1 = [string]\n",
        "    str1 = tokenizer.texts_to_sequences(str1)\n",
        "    str1 = pad_sequences(str1, maxlen=max_length, padding='post', truncating='post')\n",
        "    \n",
        "    # Lets Predict\n",
        "    predictmat = model.predict(str1)\n",
        "    \n",
        "    # Print output to check toxicity levels\n",
        "    print(\"Toxicity levels for '{}':\".format(string))\n",
        "    print('Toxic:         {:.0%}'.format(predictmat[0][0]))\n",
        "    print('Severe Toxic:  {:.0%}'.format(predictmat[0][1]))\n",
        "    print('Obscene:       {:.0%}'.format(predictmat[0][2]))\n",
        "    print('Threat:        {:.0%}'.format(predictmat[0][3]))\n",
        "    print('Insult:        {:.0%}'.format(predictmat[0][4]))\n",
        "    print('Identity Hate: {:.0%}'.format(predictmat[0][5]))\n",
        "    print()\n",
        "    \n",
        "    return\n",
        "\n",
        "toxiclevel('Why the fuck are you here?')\n",
        "toxiclevel('i will fight against you')\n",
        "toxiclevel('have a nice day')\n",
        "toxiclevel('fuck off!!')\n",
        "toxiclevel('go to hell')\n"
      ],
      "execution_count": 14,
      "outputs": [
        {
          "output_type": "stream",
          "text": [
            "Predicting the model\n",
            "Toxicity levels for 'Why the fuck are you here?':\n",
            "Toxic:         99%\n",
            "Severe Toxic:  32%\n",
            "Obscene:       97%\n",
            "Threat:        4%\n",
            "Insult:        81%\n",
            "Identity Hate: 8%\n",
            "\n",
            "Toxicity levels for 'i will fight against you':\n",
            "Toxic:         31%\n",
            "Severe Toxic:  0%\n",
            "Obscene:       8%\n",
            "Threat:        2%\n",
            "Insult:        12%\n",
            "Identity Hate: 1%\n",
            "\n",
            "Toxicity levels for 'have a nice day':\n",
            "Toxic:         5%\n",
            "Severe Toxic:  0%\n",
            "Obscene:       2%\n",
            "Threat:        0%\n",
            "Insult:        2%\n",
            "Identity Hate: 0%\n",
            "\n",
            "Toxicity levels for 'fuck off!!':\n",
            "Toxic:         98%\n",
            "Severe Toxic:  36%\n",
            "Obscene:       96%\n",
            "Threat:        4%\n",
            "Insult:        75%\n",
            "Identity Hate: 7%\n",
            "\n",
            "Toxicity levels for 'go to hell':\n",
            "Toxic:         77%\n",
            "Severe Toxic:  4%\n",
            "Obscene:       44%\n",
            "Threat:        4%\n",
            "Insult:        41%\n",
            "Identity Hate: 4%\n",
            "\n"
          ],
          "name": "stdout"
        }
      ]
    },
    {
      "metadata": {
        "id": "-T_XWsLyNB0t",
        "colab_type": "code",
        "colab": {
          "autoexec": {
            "startup": false,
            "wait_interval": 0
          },
          "base_uri": "https://localhost:8080/",
          "height": 151
        },
        "outputId": "45ca9d5a-74c8-46d4-bc43-9d2020e93bfe",
        "executionInfo": {
          "status": "ok",
          "timestamp": 1527369143186,
          "user_tz": -330,
          "elapsed": 750,
          "user": {
            "displayName": "Nishkarsh Vardhan",
            "photoUrl": "//lh3.googleusercontent.com/-uHL0v6hEGG4/AAAAAAAAAAI/AAAAAAAABUU/elEvQB2L4Qk/s50-c-k-no/photo.jpg",
            "userId": "101588741636809151500"
          }
        }
      },
      "cell_type": "code",
      "source": [
        "toxiclevel('What is your name')\n"
      ],
      "execution_count": 15,
      "outputs": [
        {
          "output_type": "stream",
          "text": [
            "Toxicity levels for 'What is your name':\n",
            "Toxic:         5%\n",
            "Severe Toxic:  0%\n",
            "Obscene:       1%\n",
            "Threat:        0%\n",
            "Insult:        1%\n",
            "Identity Hate: 0%\n",
            "\n"
          ],
          "name": "stdout"
        }
      ]
    },
    {
      "metadata": {
        "id": "KodyOIt02ijk",
        "colab_type": "code",
        "colab": {
          "autoexec": {
            "startup": false,
            "wait_interval": 0
          }
        }
      },
      "cell_type": "code",
      "source": [
        ""
      ],
      "execution_count": 0,
      "outputs": []
    }
  ]
}